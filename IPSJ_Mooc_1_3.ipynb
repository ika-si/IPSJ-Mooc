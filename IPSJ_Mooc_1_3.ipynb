{
  "nbformat": 4,
  "nbformat_minor": 0,
  "metadata": {
    "colab": {
      "name": "IPSJ-Mooc-1-3.ipynb",
      "provenance": [],
      "collapsed_sections": [],
      "include_colab_link": true
    },
    "kernelspec": {
      "name": "python3",
      "display_name": "Python 3"
    }
  },
  "cells": [
    {
      "cell_type": "markdown",
      "metadata": {
        "id": "view-in-github",
        "colab_type": "text"
      },
      "source": [
        "<a href=\"https://colab.research.google.com/github/ika-si/IPSJ-Mooc/blob/main/IPSJ_Mooc_1_3.ipynb\" target=\"_parent\"><img src=\"https://colab.research.google.com/assets/colab-badge.svg\" alt=\"Open In Colab\"/></a>"
      ]
    },
    {
      "cell_type": "markdown",
      "metadata": {
        "id": "OvvcRZA5thWU"
      },
      "source": [
        "# `反復処理`"
      ]
    },
    {
      "cell_type": "markdown",
      "metadata": {
        "id": "8-4ziLtw27mt"
      },
      "source": [
        "**コンテンツ一覧**\n",
        "*   [プログラムの構造，順次処理，計算](https://colab.research.google.com/drive/1p9pSDwnozHR7tYctQuNFsuCTo0fLcDch?usp=sharing)\n",
        "*   [分岐処理](https://colab.research.google.com/drive/19ieYeHeSSmodPkkO2dcWz06_KQxaerCq?usp=sharing)\n",
        "*   反復処理（本コンテンツ）\n",
        "*   [応用的プログラミング1](https://colab.research.google.com/drive/1ONXeLMq3lpmHJN55UGctxq_rAc-zLXWC?usp=sharing)\n",
        "*   [応用的プログラミング2](https://colab.research.google.com/drive/11C6Z_4cX9OW8heGiyGGQJuaqelss_UWs?usp=sharing)"
      ]
    },
    {
      "cell_type": "markdown",
      "metadata": {
        "id": "vAwMfckTfAtk"
      },
      "source": [
        "# 反復処理(for)"
      ]
    },
    {
      "cell_type": "markdown",
      "metadata": {
        "id": "uHZ8b4QdlzBZ"
      },
      "source": [
        "for文は，指定された値の範囲で変数を変化させながら反復（繰り返し）処理を行います．"
      ]
    },
    {
      "cell_type": "markdown",
      "metadata": {
        "id": "TSyQA-KNeew8"
      },
      "source": [
        "例）変数x に対して 10 を5 回加算をしながらその都度 x の値を表示するプログラム"
      ]
    },
    {
      "cell_type": "code",
      "metadata": {
        "id": "obr5Nz76ejWI",
        "colab": {
          "base_uri": "https://localhost:8080/"
        },
        "outputId": "c43a7969-e6c3-46f3-caec-4681b343f0d7"
      },
      "source": [
        "x = 0\n",
        "print(\"x = \" , x)\n",
        "for i in range(1, 6, 1):    # 1から6未満の間1ずつカウントを増やしながら繰り返す\n",
        "  x = x + 10\n",
        "  print(\"x = \" , x)"
      ],
      "execution_count": null,
      "outputs": [
        {
          "output_type": "stream",
          "name": "stdout",
          "text": [
            "x =  0\n",
            "x =  10\n",
            "x =  20\n",
            "x =  30\n",
            "x =  40\n",
            "x =  50\n"
          ]
        }
      ]
    },
    {
      "cell_type": "markdown",
      "metadata": {
        "id": "Oeyk4kF1fR4a"
      },
      "source": [
        "このプログラムではiを1から1ずつ増やしながら5まで変化させ，その繰り返しのたびにxに10を加え，その途中経過を表示します．"
      ]
    },
    {
      "cell_type": "markdown",
      "metadata": {
        "id": "fYYou-Oyf7WE"
      },
      "source": [
        "**for構文**\n",
        "```python\n",
        "for 変数 in range(値1, 値2, 増減値):\n",
        "  繰り返す処理\n",
        "```\n",
        "* 変数を値1から増減値ずつ変化させ，値2に等しいか超えたときに繰り返しを終了する\n",
        "  * 増減値が正の場合，変数の取る最大値は値2-1\n",
        "  * 増減値が負の場合，変数の取る最小値は値2+1\n",
        "* 同じ字下げをして，複数行書くことができる"
      ]
    },
    {
      "cell_type": "markdown",
      "metadata": {
        "id": "7izPbDeSjF2c"
      },
      "source": [
        "**range()関数**\n",
        "：指定された範囲の整数列を生成\n",
        "* 引数が1個：range(終了値)\n",
        "    * 0から終了値-1まで1刻みで（0, 1, ..., 終了値-1）\n",
        "      * range(5): 0,1,2,3,4\n",
        "* 引数が2個：range(開始値, 終了値)\n",
        "    * 開始値から終了値-1まで1刻みで（開始値, 開始値+1, ..., 終了値-1）\n",
        "      * range(2,5): 2,3,4\n",
        "* 引数が3個：range(開始値, 終了値, 増分)\n",
        "    * 増分が正：開始値から終了値以上にならない範囲で増分刻みで\n",
        "      * range(1,10,2): 1,3,5,7,9\n",
        "    * 増分が負：開始値から終了値以下にならない範囲で増分刻みで\n",
        "      * range(10,1,-2): 10,8,6,4,2"
      ]
    },
    {
      "cell_type": "markdown",
      "metadata": {
        "id": "J7XxV1lAeuLB"
      },
      "source": [
        "演習）上の例のプログラムを参考に『x の値を表示すると同時に繰り返している回数をその都度表示する』プログラムを作成しましょう。"
      ]
    },
    {
      "cell_type": "code",
      "metadata": {
        "id": "iMTbp6tJe4hg",
        "colab": {
          "base_uri": "https://localhost:8080/"
        },
        "outputId": "0dc52fba-96b8-4ea9-99b9-d561f7cc1d3a"
      },
      "source": [
        "x = 0\n",
        "print(\"x = \" , x)\n",
        "for i in range(1, 6, 1):    # 1から6未満の間1ずつカウントを増やしながら繰り返す\n",
        "  x = x + 10\n",
        "  print(\"i = \", i, \" : x = \" , x)"
      ],
      "execution_count": null,
      "outputs": [
        {
          "output_type": "stream",
          "name": "stdout",
          "text": [
            "x =  0\n",
            "i =  1  : x =  10\n",
            "i =  2  : x =  20\n",
            "i =  3  : x =  30\n",
            "i =  4  : x =  40\n",
            "i =  5  : x =  50\n"
          ]
        }
      ]
    },
    {
      "cell_type": "markdown",
      "metadata": {
        "id": "Oijwt1iWgIsZ"
      },
      "source": [
        "演習）上の例のプログラムを参考に繰り返す回数だけを変更して『x の値が100 になる』プログラムを作成しましょう。"
      ]
    },
    {
      "cell_type": "code",
      "metadata": {
        "id": "el_Dv5i8gUY1",
        "colab": {
          "base_uri": "https://localhost:8080/"
        },
        "outputId": "6c88538a-e4d4-4cba-89d2-f1fafed65db0"
      },
      "source": [
        "x = 0\n",
        "print(\"x = \" , x)\n",
        "for i in range(1, 11, 1):    # 1から6未満の間1ずつカウントを増やしながら繰り返す\n",
        "  x = x + 10\n",
        "  print(\"x = \" , x)"
      ],
      "execution_count": null,
      "outputs": [
        {
          "output_type": "stream",
          "name": "stdout",
          "text": [
            "x =  0\n",
            "x =  10\n",
            "x =  20\n",
            "x =  30\n",
            "x =  40\n",
            "x =  50\n",
            "x =  60\n",
            "x =  70\n",
            "x =  80\n",
            "x =  90\n",
            "x =  100\n"
          ]
        }
      ]
    },
    {
      "cell_type": "markdown",
      "metadata": {
        "id": "zgW3YzzNhkbu"
      },
      "source": [
        "演習）上の例のプログラムを参考に『x = x + 10』の部分だけを変更し，『1+2+3+4+5』の値を表示するプログラムを作成しましょう。"
      ]
    },
    {
      "cell_type": "code",
      "metadata": {
        "id": "uvQ57KK6hwco",
        "colab": {
          "base_uri": "https://localhost:8080/"
        },
        "outputId": "ff1edb4a-d185-4dba-c63b-9e53c924e44b"
      },
      "source": [
        "x = 0\n",
        "print(\"x = \" , x)\n",
        "for i in range(1, 6, 1):\n",
        "  x = x + i\n",
        "  print(\"x = \" , x)"
      ],
      "execution_count": null,
      "outputs": [
        {
          "output_type": "stream",
          "name": "stdout",
          "text": [
            "x =  0\n",
            "x =  1\n",
            "x =  3\n",
            "x =  6\n",
            "x =  10\n",
            "x =  15\n"
          ]
        }
      ]
    },
    {
      "cell_type": "markdown",
      "metadata": {
        "id": "cR0ulKe1ItCL"
      },
      "source": [
        "# 反復処理と分岐処理の組み合わせ"
      ]
    },
    {
      "cell_type": "markdown",
      "metadata": {
        "id": "K6AWCloXiXQu"
      },
      "source": [
        "例）変数x に対して 10 を ５回加算をするが，『繰り返している回数が奇数回の場合だけ』 x の値を表示するプログラム"
      ]
    },
    {
      "cell_type": "code",
      "metadata": {
        "id": "7S1vSf3ziaXq",
        "colab": {
          "base_uri": "https://localhost:8080/"
        },
        "outputId": "a0ce342e-831f-4ccd-8188-427f814c868e"
      },
      "source": [
        "x = 0\n",
        "print(\"x = \" , x)\n",
        "for i in range(1, 6, 1):\n",
        "  x = x + 10\n",
        "  if i%2==1:   # i を2 で割ったときの余りが1 のとき\n",
        "    print(\"x = \" , x)"
      ],
      "execution_count": null,
      "outputs": [
        {
          "output_type": "stream",
          "name": "stdout",
          "text": [
            "x =  0\n",
            "x =  10\n",
            "x =  30\n",
            "x =  50\n"
          ]
        }
      ]
    },
    {
      "cell_type": "markdown",
      "metadata": {
        "id": "X7FwaxfGJN-5"
      },
      "source": [
        "このプログラムではiに1から1ずつ増やしながら5まで変化させ，その繰り返しのたびにxに10を加え，iが奇数のとき，その途中経過を表示します．"
      ]
    },
    {
      "cell_type": "markdown",
      "metadata": {
        "id": "euhL2iX2ir_I"
      },
      "source": [
        "演習）上の例のプログラムを参考に『i が偶数の時だけx に10 を加え，その都度x の値を表示する』プログラムを作成しましょう"
      ]
    },
    {
      "cell_type": "code",
      "metadata": {
        "id": "jfU4jM2ii14z",
        "colab": {
          "base_uri": "https://localhost:8080/"
        },
        "outputId": "83120676-c6b0-4678-e1e8-4a5564f443ed"
      },
      "source": [
        "x = 0\n",
        "print(\"x = \" , x)\n",
        "for i in range(1, 6, 1):\n",
        "  if i%2==0:   # i を2 で割ったときの余りが0のとき\n",
        "    x = x + 10\n",
        "    print(\"x = \" , x)"
      ],
      "execution_count": null,
      "outputs": [
        {
          "output_type": "stream",
          "name": "stdout",
          "text": [
            "x =  0\n",
            "x =  10\n",
            "x =  20\n"
          ]
        }
      ]
    },
    {
      "cell_type": "markdown",
      "metadata": {
        "id": "sUfXvaMaBeHX"
      },
      "source": [
        "演習）3の倍数のとき「Fizz」，5の倍数のとき「Buzz」，15の倍数のとき「FizzBuzz」，それ以外はその数を出力するプログラムとするつもりで以下を作成したが，15のときに「Fizz」としか表示されずうまくいかなかった。下のコードを修正して15のときに「FizzBuzz」と表示されるようにしてみよう。"
      ]
    },
    {
      "cell_type": "code",
      "metadata": {
        "id": "esmxRw42CWEC",
        "colab": {
          "base_uri": "https://localhost:8080/"
        },
        "outputId": "6f0d1378-8211-4a30-d550-8714898ea88d"
      },
      "source": [
        "for i in range(1,21,1):\n",
        "  if (i%15 == 0):\n",
        "    print(\"FizzBuzz\")\n",
        "  elif (i%3 == 0):\n",
        "    print(\"Fizz\")\n",
        "  elif (i%5 == 0):\n",
        "    print(\"Buzz\")\n",
        "  else:\n",
        "    print(i)"
      ],
      "execution_count": null,
      "outputs": [
        {
          "output_type": "stream",
          "name": "stdout",
          "text": [
            "1\n",
            "2\n",
            "Fizz\n",
            "4\n",
            "Buzz\n",
            "Fizz\n",
            "7\n",
            "8\n",
            "Fizz\n",
            "Buzz\n",
            "11\n",
            "Fizz\n",
            "13\n",
            "14\n",
            "FizzBuzz\n",
            "16\n",
            "17\n",
            "Fizz\n",
            "19\n",
            "Buzz\n"
          ]
        }
      ]
    },
    {
      "cell_type": "code",
      "metadata": {
        "id": "XkBhhlHGCcuD"
      },
      "source": [
        ""
      ],
      "execution_count": null,
      "outputs": []
    },
    {
      "cell_type": "markdown",
      "metadata": {
        "id": "0aMwOn40voLq"
      },
      "source": [
        "[前のコンテンツ](https://colab.research.google.com/drive/19ieYeHeSSmodPkkO2dcWz06_KQxaerCq?usp=sharing)　[次のコンテンツ](https://colab.research.google.com/drive/1ONXeLMq3lpmHJN55UGctxq_rAc-zLXWC?usp=sharing)"
      ]
    }
  ]
}