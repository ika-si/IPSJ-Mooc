{
  "nbformat": 4,
  "nbformat_minor": 0,
  "metadata": {
    "colab": {
      "name": "IPSJ-Mooc-2-3.ipynb",
      "provenance": [],
      "collapsed_sections": [],
      "include_colab_link": true
    },
    "kernelspec": {
      "name": "python3",
      "display_name": "Python 3"
    }
  },
  "cells": [
    {
      "cell_type": "markdown",
      "metadata": {
        "id": "view-in-github",
        "colab_type": "text"
      },
      "source": [
        "<a href=\"https://colab.research.google.com/github/ika-si/IPSJ-Mooc/blob/main/IPSJ_Mooc_2_3.ipynb\" target=\"_parent\"><img src=\"https://colab.research.google.com/assets/colab-badge.svg\" alt=\"Open In Colab\"/></a>"
      ]
    },
    {
      "cell_type": "markdown",
      "metadata": {
        "id": "FOINDyPfakDQ"
      },
      "source": [
        "# 実習の説明\n",
        "* これは、Google Colaboratory のプログラム実行環境です。\n",
        "* 実行する場合は、プログラムの左端の [　] の部分にマウスカーソルを近づけてみてください。再生ボタンが表示されるので、それを押してください。\n",
        "* 「警告: このノートブックは Google が作成したものではありません。」（以下略） と表示されます。このプログラムは教材用として情報処理学会で作成したものです。そのまま実行をしてください。\n",
        "* アニメーションが止まったら、その部分の実行は終わりです。次（下）に進んでください。"
      ]
    },
    {
      "cell_type": "markdown",
      "metadata": {
        "id": "y4Ar1NKuoUTB"
      },
      "source": [
        "# 3. 基本的なソート - 選択ソート"
      ]
    },
    {
      "cell_type": "markdown",
      "metadata": {
        "id": "BuaOpqDW2CQ-"
      },
      "source": [
        "## ソート\n",
        "\n",
        "データをある順番に基づいて並べることをソートといいます。  \n",
        "\n",
        "「[1. リストと組み込みの関数](https://colab.research.google.com/drive/108BqyMSO-NvF7lD7WEARG58U7EWq3-5H?usp=sharing)」で，組み込み関数の sorted の使い方を学びました。\n",
        "[Python のドキュメント](https://docs.python.org/ja/3/howto/sorting.html)には，sorted では Timsort というアルゴリズムを利用しているという説明があります。\n",
        "\n",
        "ソートにも様々なアルゴリズムが考えられています。\n",
        "まず，素朴な方法を自分で考えてみましょう。  \n"
      ]
    },
    {
      "cell_type": "markdown",
      "metadata": {
        "id": "cNBEhESEoTSA"
      },
      "source": [
        "## 選択ソート\n",
        "\n",
        "「[3.  基本的なソート - 選択ソート](https://youtu.be/aKQJu4wOAWo)」の動画を視聴してください。\n",
        "\n",
        "動画で説明したように，選択ソートの方針は次のようになります。\n",
        "\n",
        "---\n",
        "\n",
        "　目標：リスト a に，n 個のデータが蓄えられているとき，小さい順に並び替える\n",
        "\n",
        "　方針： i を 0 から n-2 まで１ずつ増やしながら次を繰り返す  \n",
        "- a[i] 〜 a[n-1] の最大値が格納されている場所を探し，その添字を min_i とする  \n",
        "- a[i] と a[min_i] の内容を交換する  \n",
        "\n",
        "---"
      ]
    },
    {
      "cell_type": "markdown",
      "metadata": {
        "id": "Be7tPiVWqZHE"
      },
      "source": [
        "### 関数 min_index の作成\n",
        "\n",
        "次のセルの関数 min_index は，リストと添字 s を引数として受け取ると，リストの添字 s 以降の範囲で最小の要素を蓄えている要素の添字を戻します。"
      ]
    },
    {
      "cell_type": "code",
      "metadata": {
        "id": "5ooT9JNZq5MO"
      },
      "source": [
        "def min_index(a, s):\n",
        "  min_i = s\n",
        "  for i in range(s+1,len(a)):\n",
        "    if a[min_i] > a[i]:\n",
        "      min_i = i\n",
        "  return(min_i) "
      ],
      "execution_count": null,
      "outputs": []
    },
    {
      "cell_type": "markdown",
      "metadata": {
        "id": "lZinQ8m3jjVf"
      },
      "source": [
        "関数 min_index の動作を確認するため，上のセルを実行してから，次のセルを実行しましょう。"
      ]
    },
    {
      "cell_type": "code",
      "metadata": {
        "id": "2I42tHVSiiQf"
      },
      "source": [
        "names = ['ゆうと', 'ひな', 'さくら', 'ゆい', 'あん', 'りく', 'あい', 'れん', 'ひろと', 'あおい', 'つばさ', 'だいき', 'ななみ', 'まお', 'かいと', 'みう', 'そら', 'みさき', 'しょうた', 'ゆう']\n",
        "print(min_index(names,0))\n",
        "print(names[min_index(names,0)])\n",
        "print(min_index(names,6))\n",
        "print(names[min_index(names,6)])\n",
        "print(min_index(names,7))\n",
        "print(names[min_index(names,7)])"
      ],
      "execution_count": null,
      "outputs": []
    },
    {
      "cell_type": "markdown",
      "metadata": {
        "id": "WcMsvnU1ZakU"
      },
      "source": [
        "次のセルで，リスト a を引数として受け取ると，選択ソートで小さい順に並び替える関数 selection_sort を min_index を利用して完成させましょう。"
      ]
    },
    {
      "cell_type": "code",
      "metadata": {
        "id": "PZKFeyikFUOR"
      },
      "source": [
        "def selection_sort(a):\n",
        "  # ここに選択ソートの処理を\n",
        "    \n",
        "    \n",
        "    "
      ],
      "execution_count": null,
      "outputs": []
    },
    {
      "cell_type": "markdown",
      "metadata": {
        "id": "rSJqWCA-Zlkf"
      },
      "source": [
        "上のセルの関数 selection_sort(a) が完成したら，データを準備して実行してみましょう。"
      ]
    },
    {
      "cell_type": "code",
      "metadata": {
        "id": "rI7hiir6LDyj"
      },
      "source": [
        "names = ['ゆうと', 'ひな', 'さくら', 'ゆい', 'あん', 'りく', 'あい', 'れん', 'ひろと', 'あおい', 'つばさ', 'だいき', 'ななみ', 'まお', 'かいと', 'みう', 'そら', 'みさき', 'しょうた', 'ゆう']\n",
        "print(\"名前（ソート前）\", names)\n",
        "selection_sort(names)\n",
        "print(\"名前（ソート後）\", names)"
      ],
      "execution_count": null,
      "outputs": []
    },
    {
      "cell_type": "markdown",
      "metadata": {
        "id": "YObIeVnww5em"
      },
      "source": [
        "整数のリストに対しても実行してみましょう。"
      ]
    },
    {
      "cell_type": "code",
      "metadata": {
        "id": "U4-IKfNF-dUF"
      },
      "source": [
        "nums = [39, 63, 44, 80, 79, 78, 18, 87, 6, 76, 68, 85, 66, 8, 26]\n",
        "print(\"数（ソート前）\", nums)\n",
        "selection_sort(nums)\n",
        "print(\"数（ソート後）\", nums)"
      ],
      "execution_count": null,
      "outputs": []
    },
    {
      "cell_type": "markdown",
      "metadata": {
        "id": "w7F_RCmT_iqt"
      },
      "source": [
        "次は，「[4-1.  基本的なソート - クイックソート](https://youtu.be/zVbJJnBk14k)」の動画を視聴しましょう。"
      ]
    }
  ]
}