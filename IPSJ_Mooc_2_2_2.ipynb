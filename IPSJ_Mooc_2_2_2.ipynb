{
  "nbformat": 4,
  "nbformat_minor": 0,
  "metadata": {
    "colab": {
      "name": "IPSJ-Mooc-2-2-2.ipynb",
      "provenance": [],
      "collapsed_sections": [],
      "include_colab_link": true
    },
    "kernelspec": {
      "name": "python3",
      "display_name": "Python 3"
    }
  },
  "cells": [
    {
      "cell_type": "markdown",
      "metadata": {
        "id": "view-in-github",
        "colab_type": "text"
      },
      "source": [
        "<a href=\"https://colab.research.google.com/github/ika-si/IPSJ-Mooc/blob/main/IPSJ_Mooc_2_2_2.ipynb\" target=\"_parent\"><img src=\"https://colab.research.google.com/assets/colab-badge.svg\" alt=\"Open In Colab\"/></a>"
      ]
    },
    {
      "cell_type": "markdown",
      "metadata": {
        "id": "FOINDyPfakDQ"
      },
      "source": [
        "# 実習の説明\n",
        "* これは、Google Colaboratory のプログラム実行環境です。\n",
        "* 実行する場合は、プログラムの左端の [　] の部分にマウスカーソルを近づけてみてください。再生ボタンが表示されるので、それを押してください。\n",
        "* 「警告: このノートブックは Google が作成したものではありません。」（以下略） と表示されます。このプログラムは教材用として情報処理学会で作成したものです。そのまま実行をしてください。\n",
        "* アニメーションが止まったら、その部分の実行は終わりです。次（下）に進んでください。"
      ]
    },
    {
      "cell_type": "markdown",
      "metadata": {
        "id": "ex74aJwOTYFY"
      },
      "source": [
        "# 2-2. 基本的な探索 - 二分探索"
      ]
    },
    {
      "cell_type": "markdown",
      "metadata": {
        "id": "Dh37FwhuRFvQ"
      },
      "source": [
        "## 線形探索の実装例\n",
        "\n",
        "線形探索はリストの先頭要素から順に探している値と同じか調べる方法でした。  \n",
        "\n",
        "関数の作り方については，「[基本的なプログラミング（Python入門）](https://sites.google.com/view/ipsjmooc/list/C3-1)」の「5. 応用的プログラミング2」（[動画](https://youtu.be/UB-mZnA7bKc)，[ノート](https://colab.research.google.com/drive/11C6Z_4cX9OW8heGiyGGQJuaqelss_UWs?usp=sharing)）で学びました。\n",
        "`return` で値（戻り値）を戻せます。関数を実行中に `return` に出会うと，その処理を終えると関数の実行は終了します。\n",
        "\n",
        "次は，線形探索でリスト中の値を探す関数 l_search(a, p) の実装例です。"
      ]
    },
    {
      "cell_type": "code",
      "metadata": {
        "id": "343FRNgcBQ5T"
      },
      "source": [
        "def l_search(a,p):\n",
        "  # ここにコードを書いて完成させましょう\n",
        "  for i in range(0,len(a),1):\n",
        "    if a[i]==p:\n",
        "      return(i)        # 探索成功\n",
        "  return(-1)           # 探索失敗"
      ],
      "execution_count": null,
      "outputs": []
    },
    {
      "cell_type": "markdown",
      "metadata": {
        "id": "YS8y34nEBfP7"
      },
      "source": [
        "上のセルを実行してから，下のセルを実行してみましょう。"
      ]
    },
    {
      "cell_type": "code",
      "metadata": {
        "id": "hu9bFhw3B9dW"
      },
      "source": [
        "names = ['ゆうと', 'ひな', 'さくら', 'ゆい', 'あん', 'りく', 'あい', 'れん', 'ひろと', 'あおい', 'つばさ', 'だいき', 'ななみ', 'まお', 'かいと', 'みう', 'そら', 'みさき', 'しょうた', 'ゆう']\n",
        "sorted_names = sorted(names)\n",
        "print(names)\n",
        "print(sorted_names)\n",
        "p = 'つばさ'\n",
        "print('未ソート',p,l_search(names,p))\n",
        "print('ソート済',p,l_search(sorted_names,p))\n",
        "p = 'たろう'\n",
        "print('未ソート',p,l_search(names,p))\n",
        "print('ソート済',p,l_search(sorted_names,p))\n",
        "p = 'ゆうと'\n",
        "print('未ソート',p,l_search(names,p))\n",
        "print('ソート済',p,l_search(sorted_names,p))\n",
        "p = 'あい'\n",
        "print('未ソート',p,l_search(names,p))\n",
        "print('ソート済',p,l_search(sorted_names,p))\n",
        "p = 'ゆう'\n",
        "print('未ソート',p,l_search(names,p))\n",
        "print('ソート済',p,l_search(sorted_names,p))\n",
        "p = 'れん'\n",
        "print('未ソート',p,l_search(names,p))\n",
        "print('ソート済',p,l_search(sorted_names,p))"
      ],
      "execution_count": null,
      "outputs": []
    },
    {
      "cell_type": "markdown",
      "metadata": {
        "id": "y5UP4YfVD3Aq"
      },
      "source": [
        "## 二分探索\n",
        "\n",
        "「[2-2. 基本的な探索  - 二分探索](https://youtu.be/4ZdZsjbhoMY)」の動画を視聴してください。  \n",
        "動画で説明したように，二分探索は，データがある順番で並び替えらている場合にその性質を活かして探索のたびに探索範囲を半分以下に絞り込むアルゴリズムです。  \n",
        "\n",
        "---\n",
        "【二分探索の方針】  \n",
        "探索範囲が空でない間，次を繰り返す：  \n",
        "　探索範囲中央 `a[m]` を探索対象 `p`と比較\n",
        "\n",
        "- `a[m] == 0` なら: 対象を発見\n",
        "- `a[m] > p` なら: 探索範囲を `l` 〜 `m-1` に更新\n",
        "- `a[m] < p` なら: 探索範囲を `m+1` 〜 `l` に更新\n",
        "---\n",
        "\n",
        "次のセルで，二分探索でリスト中の値を探す関数 b_search(a,p) を完成させましょう。\n",
        "リスト a の中に値が p の要素があれば，最初に見つけた要素の添字を戻し，値が p の要素がなければ -1 を戻すように実装してください。"
      ]
    },
    {
      "cell_type": "code",
      "metadata": {
        "id": "oHrobRr3m_4T"
      },
      "source": [
        "def b_search(a,p):\n",
        "  # ここに二分探索の処理を  \n",
        "  left = 0\n",
        "  right = len(a)-1\n",
        "  while left < right:\n",
        "    middle = (left+right)//2\n",
        "    if a[middle] < p:\n",
        "      left = middle +1\n",
        "    elif a[middle] > p:\n",
        "      right = middle\n",
        "    elif a[middle] == p:\n",
        "      return middle\n",
        "\n",
        "  return(-1)      # 探索失敗"
      ],
      "execution_count": 48,
      "outputs": []
    },
    {
      "cell_type": "markdown",
      "metadata": {
        "id": "aTg2nYUHQvwt"
      },
      "source": [
        "上のセルの関数 b_search(a, p) が完成したら，上のセルを実行してから，下のセルを実行しましょう"
      ]
    },
    {
      "cell_type": "code",
      "metadata": {
        "id": "SIG-GRzonH3W",
        "outputId": "fbfe6f20-e0e2-4059-bcd7-22632ddc00bd",
        "colab": {
          "base_uri": "https://localhost:8080/"
        }
      },
      "source": [
        "p = 'つばさ'\n",
        "print('ソート済',p,b_search(sorted_names,p))\n",
        "p = 'たろう'\n",
        "print('ソート済',p,b_search(sorted_names,p))\n",
        "p = 'ゆうと'\n",
        "print('ソート済',p,b_search(sorted_names,p))\n",
        "p = 'あい'\n",
        "print('ソート済',p,b_search(sorted_names,p))\n",
        "p = 'ゆう'\n",
        "print('ソート済',p,b_search(sorted_names,p))\n",
        "p = 'れん'\n",
        "print('ソート済',p,b_search(sorted_names,p))"
      ],
      "execution_count": 49,
      "outputs": [
        {
          "output_type": "stream",
          "name": "stdout",
          "text": [
            "ソート済 つばさ 8\n",
            "ソート済 たろう -1\n",
            "ソート済 ゆうと 17\n",
            "ソート済 あい 0\n",
            "ソート済 ゆう 16\n",
            "ソート済 れん -1\n"
          ]
        }
      ]
    },
    {
      "cell_type": "code",
      "metadata": {
        "id": "Y6angaNMnSNL",
        "outputId": "4cc69e07-3d62-480f-e914-fb0f760aaa37",
        "colab": {
          "base_uri": "https://localhost:8080/"
        }
      },
      "source": [
        "sorted_nums = [6, 8, 18, 26, 39, 44, 63, 66, 68, 76, 78, 79, 80, 85, 87]\n",
        "p = 26\n",
        "print('ソート済',p,b_search(sorted_nums,p))\n",
        "p = 66\n",
        "print('ソート済',p,b_search(sorted_nums,p))\n",
        "p = 79\n",
        "print('ソート済',p,b_search(sorted_nums,p))\n",
        "p = 77\n",
        "print('ソート済',p,b_search(sorted_nums,p))"
      ],
      "execution_count": 50,
      "outputs": [
        {
          "output_type": "stream",
          "name": "stdout",
          "text": [
            "ソート済 26 3\n",
            "ソート済 66 7\n",
            "ソート済 79 11\n",
            "ソート済 77 -1\n"
          ]
        }
      ]
    },
    {
      "cell_type": "markdown",
      "metadata": {
        "id": "TiD58lOp6ylU"
      },
      "source": [
        "次は，「[2-3. 基本的な探索  - 線形探索と二分探索の比較](https://youtu.be/kd7MRMuoc0g)」の動画を視聴しましょう。"
      ]
    }
  ]
}