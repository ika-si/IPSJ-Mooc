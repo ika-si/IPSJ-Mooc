{
  "nbformat": 4,
  "nbformat_minor": 0,
  "metadata": {
    "colab": {
      "name": "IPSJ-Mooc-2-4-2.ipynb",
      "provenance": [],
      "include_colab_link": true
    },
    "kernelspec": {
      "name": "python3",
      "display_name": "Python 3"
    }
  },
  "cells": [
    {
      "cell_type": "markdown",
      "metadata": {
        "id": "view-in-github",
        "colab_type": "text"
      },
      "source": [
        "<a href=\"https://colab.research.google.com/github/ika-si/IPSJ-Mooc/blob/main/IPSJ_Mooc_2_4_2.ipynb\" target=\"_parent\"><img src=\"https://colab.research.google.com/assets/colab-badge.svg\" alt=\"Open In Colab\"/></a>"
      ]
    },
    {
      "cell_type": "markdown",
      "metadata": {
        "id": "FOINDyPfakDQ"
      },
      "source": [
        "# 実習の説明\n",
        "* これは、Google Colaboratory のプログラム実行環境です。\n",
        "* 実行する場合は、プログラムの左端の [　] の部分にマウスカーソルを近づけてみてください。再生ボタンが表示されるので、それを押してください。\n",
        "* 「警告: このノートブックは Google が作成したものではありません。」（以下略） と表示されます。このプログラムは教材用として情報処理学会で作成したものです。そのまま実行をしてください。\n",
        "* アニメーションが止まったら、その部分の実行は終わりです。次（下）に進んでください。"
      ]
    },
    {
      "cell_type": "markdown",
      "metadata": {
        "id": "rb8gib8_pssb"
      },
      "source": [
        "# 4-2. 基本的なソート - 選択ソートとクイックソートの比較"
      ]
    },
    {
      "cell_type": "markdown",
      "metadata": {
        "id": "biZid4e0-ul6"
      },
      "source": [
        "「[2-3. 基本的な探索  - 線形探索と二分探索の比較](https://youtu.be/kd7MRMuoc0g)」では，線形探索と二分探索の比較をしました。ここでも，選択ソートとクイックソートを比較しましょう。\n",
        "\n",
        "「[4-2.  基本的なソート - 選択ソートとクイックソートの比較](https://youtu.be/4o16eX3a-Q4)」の動画を視聴してください。"
      ]
    },
    {
      "cell_type": "markdown",
      "metadata": {
        "id": "10dEoGc6AI8X"
      },
      "source": [
        "## 選択ソートとクイックソートの性質\n",
        "\n",
        "データ数が N 個の場合で考察をします。\n",
        "\n",
        "【選択ソート】\n",
        "- 「複数の要素から最小値を探す」処理を N-1 回行う\n",
        "- 「複数の要素から最小値を探す」処理の i 回目では，「(N-i+1) 個の要素から最小値を探す」ことになる  \n",
        "\n",
        "　　　　N, N-1, N-2, N-3, … ，4, 3, 2（i = 1, 2, …, N-2, N-1）\n",
        "- データ数が大きくなればなるほど「最小値を探す」処理の回数が膨大になり，処理に必要な時間が多くなりやすい\n",
        "\n",
        "【クイックソート】\n",
        "\n",
        "- 軸（基準値）を元に２分割しながら並べ替え処理を行う\n",
        "- 分割の各段で軸と他の要素を比較する回数の合計は高々 N 回なので，全体の処理に必要な時間は，分割が何段行われるかに影響される\n",
        "- 分割が偏る頻度が多くなければ，分割の段数は少なく，データ数が大きくなっても処理の回数が膨大にならない\n",
        "- まれに分割が偏る頻度が多くなり，その場合は，処理の回数が膨大になる\n"
      ]
    },
    {
      "cell_type": "markdown",
      "metadata": {
        "id": "lgy1ypD8EqYR"
      },
      "source": [
        "ソート処理では，リスト要素の比較が重要な処理となります。以下では，選択ソートとクイックソートのプログラムを比較回数を記録するように変更します。"
      ]
    },
    {
      "cell_type": "markdown",
      "metadata": {
        "id": "OOzAFxGgD4sm"
      },
      "source": [
        "## 【選択ソート】リスト要素の比較回数を記録"
      ]
    },
    {
      "cell_type": "markdown",
      "metadata": {
        "id": "0D4wWhG5FcpP"
      },
      "source": [
        "「4-1.  基本的なソート - クイックソート」の[ノート](https://colab.research.google.com/drive/12WQ2a8LwU8V_L_05Y9AVt8iGMRAPI8xE?usp=sharing)で紹介した選択ソートの実装例では，関数 min_index の中で，リスト要素の比較を行っています。下のセルのようにグローバル変数 count に，リスト要素の比較回数を記録します。"
      ]
    },
    {
      "cell_type": "code",
      "metadata": {
        "id": "ujL_ld4lbDZx"
      },
      "source": [
        "def min_index_count(a, s):\n",
        "  global count                                  # リスト要素の比較回数を記憶するグローバル変数\n",
        "  min_i = s\n",
        "  for i in range(s+1,len(a)):\n",
        "    count += 1                                    # 比較回数をインクリメント\n",
        "    if a[min_i] > a[i]:\n",
        "      min_i = i\n",
        "  return(min_i) \n",
        "\n",
        "def selection_sort_count(a):\n",
        "  for i in range(0,len(a)-1):\n",
        "    min_i = min_index_count(a,i)\n",
        "    a[i], a[min_i] = a[min_i], a[i]"
      ],
      "execution_count": null,
      "outputs": []
    },
    {
      "cell_type": "markdown",
      "metadata": {
        "id": "r9HqZczFDzDI"
      },
      "source": [
        "## 【クイックソート】リスト要素の比較回数を記録"
      ]
    },
    {
      "cell_type": "markdown",
      "metadata": {
        "id": "fzociNmPHGZc"
      },
      "source": [
        "「4-1.  基本的なソート - クイックソート」の[ノート](https://colab.research.google.com/drive/12WQ2a8LwU8V_L_05Y9AVt8iGMRAPI8xE?usp=sharing)で紹介したクイックソートの実装例では，関数 partition の中で，リスト要素の比較を行っています。下のセルのようにグローバル変数 count に，リスト要素の比較回数を記録します。"
      ]
    },
    {
      "cell_type": "code",
      "metadata": {
        "id": "Sipx6GoueOwl"
      },
      "source": [
        "def pivot(a, start, end):                     # 軸の決定\n",
        "  return (start + end)//2                       # ここでは簡単のため，場所がほぼ中央の要素\n",
        "\n",
        "def partition_count(a, start, end):           # 軸より小さなデータ，軸，軸より大きなデータに並び替え\n",
        "  global count                                  # リスト要素の比較回数を記憶するグローバル変数\n",
        "  m = pivot(a, start, end)                      # 軸の位置を決定\n",
        "  a[start], a[m] = a[m], a[start]               # 軸と先頭要素を交換 \n",
        "  d = 0                                         # d: 軸を保存する要素（候補）の添字と start の添字の差（初期値は 0）\n",
        "  i = start + 1                                 # i: 軸と比較する要素の添字\n",
        "  while i <= end:\n",
        "    count += 1                                    # 比較回数をインクリメント\n",
        "    if a[i] <= a[start]:\n",
        "      a[start + d + 1], a[i] = a[i], a[start + d + 1] \n",
        "      d += 1\n",
        "    i += 1\n",
        "  a[start], a[start + d] = a[start + d], a[start]  # 繰り返し終了したので，軸を s[start+d] へ\n",
        "  return start + d\n",
        "\n",
        "def quick_sort_count(a, start, end):\n",
        "  # print(start, end, a)  # 実行経過表示用\n",
        "  if end - start < 1:\n",
        "    return\n",
        "  l = partition_count(a, start, end)\n",
        "  quick_sort_count(a, start, l - 1)\n",
        "  quick_sort_count(a, l + 1, end)"
      ],
      "execution_count": null,
      "outputs": []
    },
    {
      "cell_type": "markdown",
      "metadata": {
        "id": "LRUT8mGDDwdd"
      },
      "source": [
        "## 実行して比較\n",
        "\n",
        "データを準備して実行してみましょう"
      ]
    },
    {
      "cell_type": "markdown",
      "metadata": {
        "id": "mWgUdBCyFANI"
      },
      "source": [
        "### データ数 25 で，10回繰り返し"
      ]
    },
    {
      "cell_type": "markdown",
      "metadata": {
        "id": "uQqXKsluCSnS"
      },
      "source": [
        "`random.sample(sorted_nums,len(sorted_nums))`で，リスト `sorted_nums` の要素をランダムに並び替えられます。\n",
        "\n",
        "`nums2 = nums1[:] ` で，リスト `num1` の内容をリスト `num2` に複製（コピー）できます。\n",
        "\n",
        "次のセルの処理では，`for i in range(t):` は `t` 回繰り返す処理を反復しますが，繰り返す処理の中では，6行目 `num1 = random.sample(sorted_nums,len(sorted_nums))` でスト `sorted_nums` の要素をランダムに並び替えたリストを `num1` に記録し，7行目 `nums2 = nums1[:] ` で，そのリストを `num2` にも記録しています。つまり，各繰り返し処理で，`num1` と `num2` にはランダムに並び替えららた同じリストが格納され，`num1` を選択ソートで，`num2` をクイックソートで，それぞれ比較回数を記録しながら実行されます。"
      ]
    },
    {
      "cell_type": "code",
      "metadata": {
        "id": "iWBLskIWeky9"
      },
      "source": [
        "import random\n",
        "sorted_nums = [1, 4, 5, 6, 8, 18, 19, 26, 39, 44, 63, 66, 68, 76, 78, 79, 80, 85, 87, 89, 90, 92, 95, 97, 98]\n",
        "c1, c2, max1, max2 = 0, 0, 0, 0                       # リスト要素比較回数の合計・最大値を記録する変数\n",
        "t = 10  # 繰り返し回数\n",
        "for i in range(t):\n",
        "  nums1 = random.sample(sorted_nums,len(sorted_nums)) # リスト sorted_nums の要素をランダムに並び替えています\n",
        "  nums2 = nums1[:]                                    # リスト num1 の内容をリスト num2 に複製しています\n",
        "  print(i, nums1)\n",
        "  count = 0\n",
        "  selection_sort_count(nums1)\n",
        "  c1 += count\n",
        "  if max1 < count:\n",
        "    max1 = count\n",
        "  print('　　選択ソート 比較回数', count)\n",
        "  count = 0\n",
        "  quick_sort_count(nums2, 0, len(nums2)-1)\n",
        "  c2 += count\n",
        "  if max2 < count:\n",
        "    max2 = count\n",
        "  print('　　クイックソート 比較回数', count)\n",
        "\n",
        "print('選択ソート（最大，平均） ', max1, c1/t)\n",
        "print('クイックソート（最大，平均） ', max2, c2/t)"
      ],
      "execution_count": null,
      "outputs": []
    },
    {
      "cell_type": "markdown",
      "metadata": {
        "id": "U6WE7nQ_fvaS"
      },
      "source": [
        "## データ数 1000 で，100 回繰り返し"
      ]
    },
    {
      "cell_type": "markdown",
      "metadata": {
        "id": "V8ns8XAmD3C3"
      },
      "source": [
        "`list(range(1000))` では，`range(1000)`　で生成された 0, 1, ... , 999 をリストにしています。\n"
      ]
    },
    {
      "cell_type": "code",
      "metadata": {
        "id": "t0GZTXYeeuaj"
      },
      "source": [
        "sorted_nums = list(range(1000))\n",
        "c1, c2, max1, max2 = 0, 0, 0, 0                       # リスト要素比較回数の合計・最大値を記憶する変数\n",
        "t = 100  # 繰り返し回数\n",
        "for i in range(t):\n",
        "  nums1 = random.sample(sorted_nums,len(sorted_nums)) # リスト sorted_nums の要素をランダムに並び替えています\n",
        "  nums2 = nums1[:]                                    # リスト num1 の内容をリスト num2 に複製しています\n",
        "  # print(i, nums1)\n",
        "  count = 0\n",
        "  selection_sort_count(nums1)\n",
        "  c1 += count\n",
        "  if max1 < count:\n",
        "    max1 = count\n",
        "  # print('　　選択ソート 比較回数', count)\n",
        "  count = 0\n",
        "  quick_sort_count(nums2, 0, len(nums2)-1)\n",
        "  c2 += count\n",
        "  if max2 < count:\n",
        "    max2 = count\n",
        "  # print('　　クイックソート 比較回数', count)\n",
        "\n",
        "print('選択ソート（最大，平均） ', max1, c1/t)\n",
        "print('クイックソート（最大，平均） ', max2, c2/t)"
      ],
      "execution_count": null,
      "outputs": []
    }
  ]
}