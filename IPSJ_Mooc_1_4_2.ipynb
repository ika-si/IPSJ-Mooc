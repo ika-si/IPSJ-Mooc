{
  "nbformat": 4,
  "nbformat_minor": 0,
  "metadata": {
    "colab": {
      "name": "IPSJ-Mooc-1-4-2.ipynb",
      "provenance": [],
      "collapsed_sections": [],
      "include_colab_link": true
    },
    "kernelspec": {
      "name": "python3",
      "display_name": "Python 3"
    }
  },
  "cells": [
    {
      "cell_type": "markdown",
      "metadata": {
        "id": "view-in-github",
        "colab_type": "text"
      },
      "source": [
        "<a href=\"https://colab.research.google.com/github/ika-si/IPSJ-Mooc/blob/main/IPSJ_Mooc_1_4_2.ipynb\" target=\"_parent\"><img src=\"https://colab.research.google.com/assets/colab-badge.svg\" alt=\"Open In Colab\"/></a>"
      ]
    },
    {
      "cell_type": "markdown",
      "metadata": {
        "id": "twYYKF70JUqn"
      },
      "source": [
        "# 応用的プログラミング2"
      ]
    },
    {
      "cell_type": "markdown",
      "metadata": {
        "id": "YXbj_9Ji4oLK"
      },
      "source": [
        "**コンテンツ一覧**\n",
        "*   [プログラムの構造，順次処理，計算](https://colab.research.google.com/drive/1p9pSDwnozHR7tYctQuNFsuCTo0fLcDch?usp=sharing)\n",
        "*   [分岐処理](https://colab.research.google.com/drive/19ieYeHeSSmodPkkO2dcWz06_KQxaerCq?usp=sharing)\n",
        "*   [反復処理](https://colab.research.google.com/drive/1gwUs1jp9U_zQ4xGc3J9k54EQe67D42ZK?usp=sharing)\n",
        "*   [応用的プログラミング1](https://colab.research.google.com/drive/1ONXeLMq3lpmHJN55UGctxq_rAc-zLXWC?usp=sharing)\n",
        "*   応用的プログラミング2（本コンテンツ）"
      ]
    },
    {
      "cell_type": "markdown",
      "metadata": {
        "id": "Txx2RaKtJaWF"
      },
      "source": [
        "# 関数"
      ]
    },
    {
      "cell_type": "markdown",
      "metadata": {
        "id": "nWSaQOgiV-rl"
      },
      "source": [
        "例題のような短いプログラムを作っているときにはあまり問題になりませんが，本格的なプログラムを書こうと考えると，コードの長さも膨大になってきます．このような場合，機能を切り分けて整理し，プログラムの構造をわかりやすくしなければ可読性が低くなり，自分が作ったプログラムでも後から読み返すと何を書いているのかを理解するのに時間がかかったり，修正が難しくなります。これが，複数人のチームで行うシステム開発になれば，誰もが理解しやすいプログラムとしなければいけないので，このような整理が必須です。このために，プログラムでは**関数**という形で，プログラムの機能ごとにメインのプログラムからは切り離してまとめ，それを組み合わせて使います。また，関数化することによって，その機能をいろいろな箇所で再利用することも可能になります。これまでも使ってきましたが，Pythonなどの言語処理系では，あらかじめ用意されているモジュールをimportすることにより，自分がプログラムを書かなくても便利な関数を使うことができます。しかし，もちろん自分で関数を作ることもできます。ここでは，自分で機能をまとめ，関数化する例について見ていきます。"
      ]
    },
    {
      "cell_type": "markdown",
      "metadata": {
        "id": "QU4gCtsBJc3m"
      },
      "source": [
        "例）関数で分割したリスト内の数値の合計を求めるプログラム"
      ]
    },
    {
      "cell_type": "code",
      "metadata": {
        "id": "ztxdEU3uJs25"
      },
      "source": [
        "def listgoukei(a):    # 合計を求める関数listgoukei を作成\n",
        "  goukei = 0\n",
        "  for i in range(0,len(a),1):\n",
        "    goukei = goukei+a[i]\n",
        "  return goukei\n",
        "\n",
        "a = [56,3,62,17,87,22,36,83,21,12]\n",
        "goukei = listgoukei(a)  # 作った関数listgoukei を呼び出し\n",
        "print(goukei)"
      ],
      "execution_count": null,
      "outputs": []
    },
    {
      "cell_type": "markdown",
      "metadata": {
        "id": "4-gu8GFc8wUv"
      },
      "source": [
        "このプログラムでは，リストの合計を求める関数を定義しています。**def**以下，字下げされている**return**の行までがこの関数の定義です。関数の名前は**listgoukei**で，そのあとの()の中で**a**という変数に呼び出し時に指定されたリストを受け取る指定が書かれています。**a**ように，関数呼び出されたときに指定される変数や式（これを**実引数**といいます）を関数の中で受け取って使えるように指定された変数を**仮引数**と呼びます。関数の中では，仮引数aとして渡されたリストの中の数の合計を求め，戻り値として返しています。<br>\n",
        "プログラムの中身は前回に紹介したリストの合計を求めるプログラムと同じものですが，rangeの中身が少し違います。これは，リスト**a**に入っている要素の個数を固定にしていないからです。ここを10というように値を埋め込むと，その関数は要素が10個のものしか使えない汎用性のないものになってしまいます。そこで，リストの要素数を求めることができる**len()**関数を使います。rangeにより0から**len(a)-1**までの添字のデータを加算していくことができるので，どんな要素数のリストの合計も求められるようになります。<br>\n",
        "メインプログラムは，関数外のリストをaに代入する部分から始まります。その次の関数呼び出しでは，**goukei = listgoukei(a)**とすることにより，リスト**a**を関数**listgoukei**に渡し，合計の計算結果を戻してもらうことによって，変数**goukei**に計算結果が代入されます。\n",
        "\n",
        "\n",
        "> 注）メインプログラムと関数双方で同じa, goukeiという変数を使っていますが，その2つは別の変数として扱われます。変数の有効範囲を表す**スコープ**がことなるので、別の変数として扱われます。スコープは関数内の処理でメインや他の関数にその処理の影響を与えたくないので，このような仕組みがあります。ここでは同じものを使っていますが、関数内の仮引数や変数は別の名前を使っても問題ありません。\n",
        "\n"
      ]
    },
    {
      "cell_type": "markdown",
      "metadata": {
        "id": "Wft8NhNR9G9m"
      },
      "source": [
        "**関数の定義**\n",
        "\n",
        "* 関数は以下のように定義します。\n",
        "\n",
        "```python\n",
        "def 関数名(仮引数,...)\n",
        "  関数内のプログラム\n",
        "  return 戻り値\n",
        "```\n",
        "\n",
        "* 「関数名」には関数の名前を指定します\n",
        "* 「仮引数」には関数呼び出し時に**( )**に囲んで渡される値（実引数）を受け取る変数を指定します\n",
        "  * **,**で区切って複数指定してもかも構いませんし，なくても構いません\n",
        "* 関数内のプログラムは字下げをする必要があります\n",
        "* **return** で値（戻り値）を返すことができます\n",
        "  * 返さなくてもかまいません\n",
        "\n"
      ]
    },
    {
      "cell_type": "markdown",
      "metadata": {
        "id": "u7_DJkkXJqp2"
      },
      "source": [
        "演習）上の例のプログラムを参考にして『指定した回数（p回），2 を加算するプログラム』を作成し，関数に分割してください。なお引数は「繰り返す回数p」，戻り値は「加算した結果」としてください"
      ]
    },
    {
      "cell_type": "code",
      "metadata": {
        "id": "h_28r_9gKPbd",
        "colab": {
          "base_uri": "https://localhost:8080/"
        },
        "outputId": "c6ea3ece-e59c-4fac-a602-6c9d9745cc39"
      },
      "source": [
        "def kasan(p):\n",
        "  goukei = 0\n",
        "  for i in range(p):\n",
        "    goukei += 2\n",
        "  return goukei\n",
        "\n",
        "print(kasan(4))"
      ],
      "execution_count": 2,
      "outputs": [
        {
          "output_type": "stream",
          "name": "stdout",
          "text": [
            "8\n"
          ]
        }
      ]
    },
    {
      "cell_type": "markdown",
      "metadata": {
        "id": "ErJeoIjyK9ZI"
      },
      "source": [
        "# WebAPI"
      ]
    },
    {
      "cell_type": "markdown",
      "metadata": {
        "id": "WSIuzdlEFvOg"
      },
      "source": [
        "WebAPIとは，Web経由でアクセスできるサーバの機能を使って，情報などを取り出すプログラム間のやりとりを定めたインタフェースのことです。定まった手順にしたがって要求することにより，自前では持っていない機能を自分のプログラムの中で使うことができ，それを元に簡単なプログラムで，高機能なサービスを提供することができるようになります。"
      ]
    },
    {
      "cell_type": "markdown",
      "metadata": {
        "id": "5Wwz0GekLBOe"
      },
      "source": [
        "例）zip cloudが提供する郵便番号検索APIを使って指定した郵便番号から住所を表示するプログラム"
      ]
    },
    {
      "cell_type": "code",
      "metadata": {
        "id": "1qIh6bu5LwJp",
        "colab": {
          "base_uri": "https://localhost:8080/"
        },
        "outputId": "2f0cdb86-b6e1-4cb0-e247-855c93ad3373"
      },
      "source": [
        "import requests\n",
        "import json\n",
        "\n",
        "url = \"http://zipcloud.ibsnet.co.jp/api/search\" # 使用するWebAPI のURL\n",
        "param = {\"zipcode\": \"100-0013\"} #WebAPI の引数\n",
        "\n",
        "res = requests.get(url,params=param) #WebAPI の戻り値がres へ\n",
        "response = json.loads(res.text)\n",
        "address = response[\"results\"][0]\n",
        "\n",
        "print(address[\"address1\"] + address[\"address2\"] + address[\"address3\"])"
      ],
      "execution_count": 3,
      "outputs": [
        {
          "output_type": "stream",
          "name": "stdout",
          "text": [
            "東京都千代田区霞が関\n"
          ]
        }
      ]
    },
    {
      "cell_type": "markdown",
      "metadata": {
        "id": "HzfWP5GKUOxf"
      },
      "source": [
        "このプログラムは，郵便番号データ配信サービス「zip cloud」が提供するWebAPIを使って，指定した郵便番号の住所を取り出して，表示するプログラムです。requestsモジュールはWebサーバとデータをやり取りするためのHTTP通信ライブラリです。また，jsonモジュールはWebAPIでやり取りするJSON形式のデータを処理するためのものです。変数urlにWebAPIのURL，paramに調べたい郵便番号をセットします。その後，requests.get()を用いて，指定したURLに郵便番号を引数としてアクセスし，返答を変数resに受け取ります。その結果をjson.loads()を使って解析します。APIの規則に従い，住所に関するデータをaddressに代入すると，address[\"address1\"]で都道府県名，address[\"address2\"]で市区町村名，address[\"address3\"]で町域名が参照できるようになります。\n",
        "\n",
        "\n",
        "> **ディクショナリ**<br>\n",
        "{\"zipcode\": \"100-0013\"}と書かれた形式のデータはディクショナリと呼ばれます。これを変数pramに代入すると，param[\"zipcode\"]という形で，添字に文字列を指定したデータ参照ができます。最後に表示した変数addressもディクショナリで，\"address1\"などを添字としてデータを参照して表示しています。(どういうデータが入っているかは，print(address)を最後に追加してみると見ることができます。)\n",
        "\n",
        "\n",
        "\n"
      ]
    },
    {
      "cell_type": "markdown",
      "metadata": {
        "id": "oGP2wGDjwkpz"
      },
      "source": [
        "演習）上のプログラムを郵便番号を入力してもらって結果を表示するように変更しましょう。"
      ]
    },
    {
      "cell_type": "code",
      "metadata": {
        "id": "3NPHeScRwvRy",
        "colab": {
          "base_uri": "https://localhost:8080/"
        },
        "outputId": "95dd92bb-a8a9-43ea-8785-e6ae0654ad7d"
      },
      "source": [
        "import requests\n",
        "import json\n",
        "\n",
        "zip = input(\"郵便番号を入力してください: \")\n",
        "\n",
        "url = \"http://zipcloud.ibsnet.co.jp/api/search\" # 使用するWebAPI のURL\n",
        "param = {\"zipcode\": zip} #WebAPI の引数\n",
        "\n",
        "res = requests.get(url,params=param) #WebAPI の戻り値がres へ\n",
        "response = json.loads(res.text)\n",
        "address = response[\"results\"][0]\n",
        "\n",
        "print(address[\"address1\"] + address[\"address2\"] + address[\"address3\"])"
      ],
      "execution_count": 6,
      "outputs": [
        {
          "output_type": "stream",
          "name": "stdout",
          "text": [
            "郵便番号を入力してください: 131-0045\n",
            "東京都墨田区押上\n"
          ]
        }
      ]
    },
    {
      "cell_type": "markdown",
      "metadata": {
        "id": "YzwQZ34ppXOI"
      },
      "source": [
        "# データの活用"
      ]
    },
    {
      "cell_type": "markdown",
      "metadata": {
        "id": "vSM7pCc1W545"
      },
      "source": [
        "WebAPIを利用する以外に，外部に置かれたデータを読み込み活用することもできます。"
      ]
    },
    {
      "cell_type": "markdown",
      "metadata": {
        "id": "wfjfQe-_pcSG"
      },
      "source": [
        "例）気象庁のCSVデータを読み込んで最高気温をプロット"
      ]
    },
    {
      "cell_type": "code",
      "metadata": {
        "id": "_Uf4CR4spvWe",
        "colab": {
          "base_uri": "https://localhost:8080/",
          "height": 282
        },
        "outputId": "68bb00b9-525a-4593-8d96-081524046ce0"
      },
      "source": [
        "import pandas as pd\n",
        "import matplotlib.pyplot as plt\n",
        "\n",
        "df = pd.read_csv('https://www.data.jma.go.jp/obd/stats/data/mdrr/tem_rct/alltable/mxtemsadext00_rct.csv',encoding='sjis')\n",
        "plt.scatter(df['観測所番号'], df['今日の最高気温(℃)'])"
      ],
      "execution_count": 7,
      "outputs": [
        {
          "output_type": "execute_result",
          "data": {
            "text/plain": [
              "<matplotlib.collections.PathCollection at 0x7fe5dccdd990>"
            ]
          },
          "metadata": {},
          "execution_count": 7
        },
        {
          "output_type": "display_data",
          "data": {
            "image/png": "[encoded data removed]",
            "text/plain": [
              "<Figure size 432x288 with 1 Axes>"
            ]
          },
          "metadata": {
            "needs_background": "light"
          }
        }
      ]
    },
    {
      "cell_type": "markdown",
      "metadata": {
        "id": "5iqodVtFXJbP"
      },
      "source": [
        "このプログラムでは，気象庁が毎日更新してサイトに置いている各地の最高気温データを散布図としてプロットしています。データの処理およびデータの視覚化を行うためモジュールpandas，グラフを表示するためのモジュールmatplotlib.pyplotを使っています。importの中で**as**を使うことにより，左のモジュール名を書く代わりに，右の文字列で代替することができます。pandasのread_csvを使うことにより，指定したURLのCSVデータをリストdfに読み込みます。encoding='sjis'で，CSVファイルの漢字コードをSJISであると指定しています。これにより，読み込んだデータの項目名を使ってディクショナリでデータを参照できます。最後の行ではmatplotlib.pyplotのscatterを使い，x軸に読み込んだ項目の'観測所番号'，y軸に項目'今日の最高気温(℃)'とり，データをプロットしています。"
      ]
    },
    {
      "cell_type": "markdown",
      "metadata": {
        "id": "bO-vflDCq-Qr"
      },
      "source": [
        "例）気象庁のCSVデータを読み込んで最高気温をプロット（前日との気温差で色を変える）"
      ]
    },
    {
      "cell_type": "code",
      "metadata": {
        "id": "mYALS0zRrGZQ"
      },
      "source": [
        "import pandas as pd\n",
        "import matplotlib.pyplot as plt\n",
        "\n",
        "df = pd.read_csv('https://www.data.jma.go.jp/obd/stats/data/mdrr/tem_rct/alltable/mxtemsadext00_rct.csv',encoding='sjis')\n",
        "plt.scatter(df['観測所番号'], df['今日の最高気温(℃)'], s=50, c=df['前日差（℃）'], cmap='Reds')\n",
        "plt.colorbar()"
      ],
      "execution_count": null,
      "outputs": []
    },
    {
      "cell_type": "markdown",
      "metadata": {
        "id": "_XPudlMFiIMe"
      },
      "source": [
        "scatterはデータをプロットするマーカーの色の濃淡で表すこともできます。引数の**s=**はマーカーの大きさを指定していて，**c=**で色の濃淡を決める項目'前日差（℃）'を指定しています。また，**cmap=**で濃淡を出すための連続的に色の濃さが変化するカラーマップ**'Reds'**を指定しています。カラーマップの色には，青ベースの**Blues**，緑ベースの**Greens**などを利用することができます。最後に，**colorbar()**によってグラフの右側に使っている色の濃淡がわかるカラーバーを表示しています。"
      ]
    },
    {
      "cell_type": "markdown",
      "metadata": {
        "id": "0-cfeta_tRcM"
      },
      "source": [
        "演習）上と同様のプロットを気象庁の最低気温のCSVデータ (https://www.data.jma.go.jp/obd/stats/data/mdrr/tem_rct/alltable/mntemsadext00_rct.csv) を読み込んでプロットしてみましょう。"
      ]
    },
    {
      "cell_type": "code",
      "metadata": {
        "id": "49x9bdBQtli_"
      },
      "source": [
        "import pandas as pd\n",
        "import matplotlib.pyplot as plt\n"
      ],
      "execution_count": null,
      "outputs": []
    },
    {
      "cell_type": "markdown",
      "metadata": {
        "id": "NkJYuxMywhdc"
      },
      "source": [
        "[前のコンテンツ](https://colab.research.google.com/drive/1ONXeLMq3lpmHJN55UGctxq_rAc-zLXWC?usp=sharing)"
      ]
    }
  ]
}