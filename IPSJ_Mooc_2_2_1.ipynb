{
  "nbformat": 4,
  "nbformat_minor": 0,
  "metadata": {
    "colab": {
      "name": "IPSJ-Mooc-2-2-1.ipynb",
      "provenance": [],
      "collapsed_sections": [],
      "include_colab_link": true
    },
    "kernelspec": {
      "name": "python3",
      "display_name": "Python 3"
    }
  },
  "cells": [
    {
      "cell_type": "markdown",
      "metadata": {
        "id": "view-in-github",
        "colab_type": "text"
      },
      "source": [
        "<a href=\"https://colab.research.google.com/github/ika-si/IPSJ-Mooc/blob/main/IPSJ_Mooc_2_2_1.ipynb\" target=\"_parent\"><img src=\"https://colab.research.google.com/assets/colab-badge.svg\" alt=\"Open In Colab\"/></a>"
      ]
    },
    {
      "cell_type": "markdown",
      "metadata": {
        "id": "FOINDyPfakDQ"
      },
      "source": [
        "# 実習の説明\n",
        "* これは、Google Colaboratory のプログラム実行環境です。\n",
        "* 実行する場合は、プログラムの左端の [　] の部分にマウスカーソルを近づけてみてください。再生ボタンが表示されるので、それを押してください。\n",
        "* 「警告: このノートブックは Google が作成したものではありません。」（以下略） と表示されます。このプログラムは教材用として情報処理学会で作成したものです。そのまま実行をしてください。\n",
        "* アニメーションが止まったら、その部分の実行は終わりです。次（下）に進んでください。"
      ]
    },
    {
      "cell_type": "markdown",
      "metadata": {
        "id": "_M5iogmBAZUC"
      },
      "source": [
        "# 2-1. 基本的な探索 - 線形探索"
      ]
    },
    {
      "cell_type": "markdown",
      "metadata": {
        "id": "rYlGObpDCUNp"
      },
      "source": [
        "## リストに蓄えられたデータの探索\n",
        "\n",
        "リストなどのある形式で蓄えられたデータから条件にあったデータを探すことを探索といいます。"
      ]
    },
    {
      "cell_type": "markdown",
      "metadata": {
        "id": "oQ1o1tN4QfMM"
      },
      "source": [
        "## 線形探索\n",
        "\n",
        "「[2-1. 基本的な探索  - 線形探索](https://youtu.be/Pe8hzyigFCM)」の動画を視聴してください。  \n",
        "動画で説明をしたように，線形探索はリストの先頭要素から順に探している値と同じかどうかを調べていくアルゴリズムです。  \n",
        "次のセルで，線形探索でリスト中の値を探す関数 l_search(a,p) を完成させましょう。\n",
        "リスト a の中に値が p である要素があれば，最初に見つけた要素の添字を戻し，値が p である要素がなければ -1 を戻すように実装してください。"
      ]
    },
    {
      "cell_type": "markdown",
      "metadata": {
        "id": "pFRG_WR1-ubz"
      },
      "source": [
        "関数の作り方については，「[基本的なプログラミング（Python入門）](https://sites.google.com/view/ipsjmooc/list/C3-1)」の「5. 応用的プログラミング2」（[動画](https://youtu.be/UB-mZnA7bKc)，[ノート](https://colab.research.google.com/drive/11C6Z_4cX9OW8heGiyGGQJuaqelss_UWs?usp=sharing)）で学びました。　\n",
        "\n",
        "`return` で値（戻り値）を戻せましたね。関数を実行中に `return` に出会うと，その処理を終えると関数の実行は終了します。"
      ]
    },
    {
      "cell_type": "code",
      "metadata": {
        "id": "343FRNgcBQ5T"
      },
      "source": [
        "def l_search(a,p):\n",
        "  # ここにコードを書いて完成させましょう\n",
        "\n",
        "\n",
        "  \n",
        "  return(-1)           # 探索失敗"
      ],
      "execution_count": null,
      "outputs": []
    },
    {
      "cell_type": "markdown",
      "metadata": {
        "id": "YS8y34nEBfP7"
      },
      "source": [
        "上のセルで関数 l_search(a, p) が完成したら，上のセルを実行してから，下のセルを実行してみましょう。"
      ]
    },
    {
      "cell_type": "code",
      "metadata": {
        "id": "hu9bFhw3B9dW"
      },
      "source": [
        "names = ['ゆうと', 'ひな', 'さくら', 'ゆい', 'あん', 'りく', 'あい', 'れん', 'ひろと', 'あおい', 'つばさ', 'だいき', 'ななみ', 'まお', 'かいと', 'みう', 'そら', 'みさき', 'しょうた', 'ゆう']\n",
        "sorted_names = sorted(names)\n",
        "print(names)\n",
        "print(sorted_names)\n",
        "p = 'つばさ'\n",
        "print('未ソート',p,l_search(names,p))\n",
        "print('ソート済',p,l_search(sorted_names,p))\n",
        "p = 'たろう'\n",
        "print('未ソート',p,l_search(names,p))\n",
        "print('ソート済',p,l_search(sorted_names,p))\n",
        "p = 'ゆうと'\n",
        "print('未ソート',p,l_search(names,p))\n",
        "print('ソート済',p,l_search(sorted_names,p))\n",
        "p = 'あい'\n",
        "print('未ソート',p,l_search(names,p))\n",
        "print('ソート済',p,l_search(sorted_names,p))\n",
        "p = 'ゆう'\n",
        "print('未ソート',p,l_search(names,p))\n",
        "print('ソート済',p,l_search(sorted_names,p))\n",
        "p = 'れん'\n",
        "print('未ソート',p,l_search(names,p))\n",
        "print('ソート済',p,l_search(sorted_names,p))"
      ],
      "execution_count": null,
      "outputs": []
    },
    {
      "cell_type": "markdown",
      "metadata": {
        "id": "OMvqLPl05Twu"
      },
      "source": [
        "次は，「[2-2. 基本的な探索  - 二分探索](https://youtu.be/4ZdZsjbhoMY)」の動画を視聴してください。"
      ]
    }
  ]
}