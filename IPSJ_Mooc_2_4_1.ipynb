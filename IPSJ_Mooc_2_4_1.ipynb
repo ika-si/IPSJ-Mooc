{
  "nbformat": 4,
  "nbformat_minor": 0,
  "metadata": {
    "colab": {
      "name": "IPSJ-Mooc-2-4-1.ipynb",
      "provenance": [],
      "include_colab_link": true
    },
    "kernelspec": {
      "name": "python3",
      "display_name": "Python 3"
    }
  },
  "cells": [
    {
      "cell_type": "markdown",
      "metadata": {
        "id": "view-in-github",
        "colab_type": "text"
      },
      "source": [
        "<a href=\"https://colab.research.google.com/github/ika-si/IPSJ-Mooc/blob/main/IPSJ_Mooc_2_4_1.ipynb\" target=\"_parent\"><img src=\"https://colab.research.google.com/assets/colab-badge.svg\" alt=\"Open In Colab\"/></a>"
      ]
    },
    {
      "cell_type": "markdown",
      "metadata": {
        "id": "FOINDyPfakDQ"
      },
      "source": [
        "# 実習の説明\n",
        "* これは、Google Colaboratory のプログラム実行環境です。\n",
        "* 実行する場合は、プログラムの左端の [　] の部分にマウスカーソルを近づけてみてください。再生ボタンが表示されるので、それを押してください。\n",
        "* 「警告: このノートブックは Google が作成したものではありません。」（以下略） と表示されます。このプログラムは教材用として情報処理学会で作成したものです。そのまま実行をしてください。\n",
        "* アニメーションが止まったら、その部分の実行は終わりです。次（下）に進んでください。"
      ]
    },
    {
      "cell_type": "markdown",
      "metadata": {
        "id": "OASTQMBxpiu7"
      },
      "source": [
        "# 4-1. 基本的なソート - クイックソート"
      ]
    },
    {
      "cell_type": "markdown",
      "metadata": {
        "id": "WcMsvnU1ZakU"
      },
      "source": [
        "# 選択ソートの実装例\n",
        "\n",
        "選択ソートの方針を再掲します。\n",
        "\n",
        "---\n",
        "\n",
        "　目標：リスト a に，n 個のデータが蓄えられているとき，小さい順に並び替える\n",
        "\n",
        "　方針： i を 0 から n-2 まで１ずつ増やしながら次を繰り返す  \n",
        "- a[i] 〜 a[n-1] の最大値が格納されている場所を探し，その添字を min_i とする  \n",
        "- a[i] と a[min_i] の内容を交換する  \n",
        "\n",
        "---\n",
        "\n",
        "下のセルは選択ソートの実装例です。\n",
        "\n",
        "\n",
        "`min_i = min_index(a,i)` では，`min_index(a,i)` で見つかった a[i] 〜 a[n-1] の最大値の添字を変数 min_i に代入しています。\n",
        "\n",
        "\n",
        "Python では `a, b = 0, 2` のように，複数の対象への代入を１つの代入文で表わせます。`x, y = y, x` は，結果的に x と y の内容が交換されます。`a[i], a[min_i] = a[min_i], a[i]` で，a[i] と a[min_i] が保持している値を交換しています。"
      ]
    },
    {
      "cell_type": "code",
      "metadata": {
        "id": "PZKFeyikFUOR"
      },
      "source": [
        "def min_index(a, s):\n",
        "  min_i = s\n",
        "  for i in range(s+1,len(a)):\n",
        "    if a[min_i] > a[i]:\n",
        "      min_i = i\n",
        "  return(min_i) \n",
        "\n",
        "def selection_sort(a):\n",
        "  for i in range(0,len(a)-1):\n",
        "    min_i = min_index(a,i)\n",
        "    a[i], a[min_i] = a[min_i], a[i]"
      ],
      "execution_count": null,
      "outputs": []
    },
    {
      "cell_type": "markdown",
      "metadata": {
        "id": "rSJqWCA-Zlkf"
      },
      "source": [
        "上のセルを実行してから，下のセルを実行してみましょう。"
      ]
    },
    {
      "cell_type": "code",
      "metadata": {
        "id": "rI7hiir6LDyj"
      },
      "source": [
        "names = ['ゆうと', 'ひな', 'さくら', 'ゆい', 'あん', 'りく', 'あい', 'れん', 'ひろと', 'あおい', 'つばさ', 'だいき', 'ななみ', 'まお', 'かいと', 'みう', 'そら', 'みさき', 'しょうた', 'ゆう']\n",
        "print(\"名前（ソート前）\", names)\n",
        "selection_sort(names)\n",
        "print(\"名前（ソート後）\", names)"
      ],
      "execution_count": null,
      "outputs": []
    },
    {
      "cell_type": "code",
      "metadata": {
        "id": "U4-IKfNF-dUF"
      },
      "source": [
        "nums = [39, 63, 44, 80, 79, 78, 18, 87, 6, 76, 68, 85, 66, 8, 26]\n",
        "print(\"数（ソート前）\", nums)\n",
        "selection_sort(nums)\n",
        "print(\"数（ソート後）\", nums)"
      ],
      "execution_count": null,
      "outputs": []
    },
    {
      "cell_type": "markdown",
      "metadata": {
        "id": "Wc1PhIDJ5g6b"
      },
      "source": [
        "次のセルでは，random.sample 関数を利用することで，リスト names と リスト nums の要素をランダムに並べ替えています。  \n",
        "random モジュールを import するとことで random.sample 関数を利用できます。\n",
        "\n",
        "次のセルを何度か実行してみましょう。"
      ]
    },
    {
      "cell_type": "code",
      "metadata": {
        "id": "NnZr2Qp2tUXM"
      },
      "source": [
        "import random\n",
        "names = random.sample(names,len(nums))\n",
        "nums = random.sample(nums,len(nums))\n",
        "\n",
        "print(\"名前（ソート前）\", names)\n",
        "selection_sort(names)\n",
        "print(\"名前（ソート後）\", names)\n",
        "\n",
        "print(\"数（ソート前）\", nums)\n",
        "selection_sort(nums)\n",
        "print(\"数（ソート後）\", nums)"
      ],
      "execution_count": null,
      "outputs": []
    },
    {
      "cell_type": "markdown",
      "metadata": {
        "id": "CkOG8wuFiLeb"
      },
      "source": [
        "# クイックソートの実装例\n",
        "\n",
        "「[4-1.  基本的なソート - クイックソート](https://youtu.be/zVbJJnBk14k)」の動画を視聴してください。\n",
        "\n",
        "動画で説明したように，選択ソートの方針は次のようになります。\n",
        "\n",
        "---\n",
        "\n",
        "　目標：リスト a の a[start] 〜 a[end] を小さい順に並び替える\n",
        "\n",
        "　方針：\n",
        "- リストのソートすべき範囲中のデータ数が1以下なら何もしない\n",
        "- そうでないなら，次を行う  \n",
        "　■ a[start] 〜 a[end] からデータを１つ選び 軸 とする  \n",
        "　■ a[start] 〜 a[end] を軸より小さなデータ，軸，軸より大きなデータの順に並び替える  \n",
        "　■ 軸より小さなデータをクイックソートで小さい順に並び替える  \n",
        "　■ 軸より大きなデータをクイックソートで小さい順に並び替える\n",
        "\n",
        "---"
      ]
    },
    {
      "cell_type": "code",
      "metadata": {
        "id": "2e5nWNFi8aSf"
      },
      "source": [
        "def pivot(a, start, end):               # 軸の決定\n",
        "  return (start + end)//2                  # ここでは簡単のため，場所がほぼ中央の要素\n",
        "\n",
        "def partition(a, start, end):           # 軸より小さなデータ，軸，軸より大きなデータに並び替え\n",
        "  m = pivot(a, start, end)                 # 軸の位置を決定\n",
        "  a[start], a[m] = a[m], a[start]          # 軸と先頭要素を交換 \n",
        "  d = 0                                       # d: 軸を保存する要素（候補）の添字と start の添字の差（初期値は 0）\n",
        "  i = start + 1                               # i: 軸と比較する要素の添字\n",
        "  while i <= end:                                      \n",
        "    if a[i] <= a[start]:\n",
        "      a[start + d + 1], a[i] = a[i], a[start + d + 1] \n",
        "      d += 1\n",
        "    i += 1\n",
        "  a[start], a[start + d] = a[start + d], a[start]  # 繰り返し終了したので，軸を s[start+d] へ\n",
        "  return start + d\n",
        "\n",
        "def quick_sort(a, start, end):\n",
        "  # print(start, end, a)  # 実行経過表示用\n",
        "  if end - start < 1:\n",
        "    return\n",
        "  l = partition(a, start, end)\n",
        "  quick_sort(a, start, l - 1)\n",
        "  quick_sort(a, l + 1, end)"
      ],
      "execution_count": null,
      "outputs": []
    },
    {
      "cell_type": "markdown",
      "metadata": {
        "id": "Wqzr8I8rieMi"
      },
      "source": [
        "データを準備して実行してみましょう。"
      ]
    },
    {
      "cell_type": "code",
      "metadata": {
        "id": "0SnTnIf88kwc"
      },
      "source": [
        "names = ['ゆうと', 'ひな', 'さくら', 'ゆい', 'あん', 'りく', 'あい', 'れん', 'ひろと', 'あおい', 'つばさ', 'だいき', 'ななみ', 'まお', 'かいと', 'みう', 'そら', 'みさき', 'しょうた', 'ゆう']\n",
        "quick_sort(names, 0, len(names)-1)\n",
        "print(names)"
      ],
      "execution_count": null,
      "outputs": []
    },
    {
      "cell_type": "code",
      "metadata": {
        "id": "FRwVTZOS_5ce"
      },
      "source": [
        "import random\n",
        "sorted_nums = [6, 8, 18, 26, 39, 44, 63, 66, 68, 76, 78, 79, 80, 85, 87] \n",
        "nums = random.sample(sorted_nums,len(sorted_nums))\n",
        "print(nums)\n",
        "quick_sort(nums, 0, len(nums)-1)\n",
        "print(nums)"
      ],
      "execution_count": null,
      "outputs": []
    },
    {
      "cell_type": "markdown",
      "metadata": {
        "id": "uEpUfaFrrbBa"
      },
      "source": [
        "演習）上の quick_sort の実装例では，再帰呼び出しを使っています。二分探索も再帰呼び出しを使った方針が考えられます。ここでは，関数 b_search_r(a,p,l,r) を実装するとして，次に方針を紹介します。\n",
        "\n",
        "目標：リスト a の a[l] 〜 a[r] の中に，値が p の要素があれば，最初に見つけた要素の添字を戻し，値が p の要素がなければ -1 を戻す\n",
        "\n",
        "方針：\n",
        "リストの探索範囲が空ならば -1 を戻す\n",
        "そうでなければ，次を行う  \n",
        "　■ 探索範囲のほぼ中央の添字 `(l+r)//2` を変数 `m` に代入する  \n",
        "　■ `a[m] == p` ならば，探索成功なので，`m` を戻す  \n",
        "　■ `a[m] > p` ならば（`p` があるとすると `m` より左なので），`b_search_r(a,p,l,m-1)` を戻す  \n",
        "　■ `a[m] < p` ならば（`p` があるとすると `m` より右なので），`b_search_r(a,p,m+1,r)` を戻す\n",
        "\n",
        "この方針に従って，関数 b_search_r(a,p,l,r) を実装してみましょう。\n"
      ]
    },
    {
      "cell_type": "markdown",
      "metadata": {
        "id": "sGbKzrpfL_Vk"
      },
      "source": [
        "演習）線形探索と二分探索を学んだ際にに[２つのアルゴリズムを比較](https://youtu.be/503V6lTMCbY)しました。次のトピック「[4-2.  基本的なソート - 選択ソートとクイックソートの比較](https://youtu.be/-RHZqwR72io)」で，選択ソートとクイックソートを比較します。次のトピックを視聴する前に，選択ソートとクイックソートの性質を考察しましょう。"
      ]
    }
  ]
}