{
  "nbformat": 4,
  "nbformat_minor": 0,
  "metadata": {
    "colab": {
      "name": "IPSJ-Mooc-1-1.ipynb",
      "provenance": [],
      "collapsed_sections": [],
      "include_colab_link": true
    },
    "kernelspec": {
      "name": "python3",
      "display_name": "Python 3"
    }
  },
  "cells": [
    {
      "cell_type": "markdown",
      "metadata": {
        "id": "view-in-github",
        "colab_type": "text"
      },
      "source": [
        "<a href=\"https://colab.research.google.com/github/ika-si/IPSJ-Mooc/blob/main/IPSJ_Mooc_1_1.ipynb\" target=\"_parent\"><img src=\"https://colab.research.google.com/assets/colab-badge.svg\" alt=\"Open In Colab\"/></a>"
      ]
    },
    {
      "cell_type": "markdown",
      "metadata": {
        "id": "jDpm4DHOIW2J"
      },
      "source": [
        "# `プログラムの構造，順次処理，計算`"
      ]
    },
    {
      "cell_type": "markdown",
      "metadata": {
        "id": "1KBK57Us-GtP"
      },
      "source": [
        "**コンテンツ一覧**\n",
        "*   プログラムの構造，順次処理，計算（本コンテンツ）\n",
        "*   [分岐処理](https://colab.research.google.com/drive/19ieYeHeSSmodPkkO2dcWz06_KQxaerCq?usp=sharing)\n",
        "*   [反復処理](https://colab.research.google.com/drive/1gwUs1jp9U_zQ4xGc3J9k54EQe67D42ZK?usp=sharing)\n",
        "*   [応用的プログラミング1](https://colab.research.google.com/drive/1ONXeLMq3lpmHJN55UGctxq_rAc-zLXWC?usp=sharing)\n",
        "*   [応用的プログラミング2](https://colab.research.google.com/drive/11C6Z_4cX9OW8heGiyGGQJuaqelss_UWs?usp=sharing)\n",
        "\n"
      ]
    },
    {
      "cell_type": "markdown",
      "metadata": {
        "id": "akRWIybo-BPK"
      },
      "source": [
        "# プログラムの構造"
      ]
    },
    {
      "cell_type": "markdown",
      "metadata": {
        "id": "j7jJNT0E-E-g"
      },
      "source": [
        "コンピュータでの処理は，\n",
        "\n",
        "*   順次\n",
        "*   分岐\n",
        "*   反復\n",
        "\n",
        "の３つの構造を組み合わせれば記述できることが知られています．これらはプログラム\n",
        "の流れを制御するものであるため制御構造と呼ばれており，多くのプログラム言語で記述できるようになっています．ここではこの3つの構造の処理をPythonでどのように記述するのかを見ていきます．"
      ]
    },
    {
      "cell_type": "markdown",
      "metadata": {
        "id": "OnEDJYSVMlI_"
      },
      "source": [
        "# 順次処理"
      ]
    },
    {
      "cell_type": "markdown",
      "metadata": {
        "id": "_7zvcBNKCXgp"
      },
      "source": [
        "「順次」とは特別な構造ではなく，プログラムが前から順に処理されるという基本的な構造です．"
      ]
    },
    {
      "cell_type": "markdown",
      "metadata": {
        "id": "VsccqMwA4unA"
      },
      "source": [
        "例）「おはよう」「こんにちは」「おやすみ」の順に画面にメッセージが表示されるプログラム"
      ]
    },
    {
      "cell_type": "code",
      "metadata": {
        "id": "vRfg5ZypFK5f",
        "colab": {
          "base_uri": "https://localhost:8080/"
        },
        "outputId": "f0c07b24-4a85-43ae-b834-62184ffb0c1c"
      },
      "source": [
        "print(\"おはよう\")         # 朝のあいさつ\n",
        "print(\"こんにちは\")       # 昼のあいさつ\n",
        "print(\"おやすみ\")         # 夜のあいさつ"
      ],
      "execution_count": null,
      "outputs": [
        {
          "output_type": "stream",
          "name": "stdout",
          "text": [
            "おはよう\n",
            "こんにちは\n",
            "おやすみ\n"
          ]
        }
      ]
    },
    {
      "cell_type": "markdown",
      "metadata": {
        "id": "kb5-7Q7rv9Gu"
      },
      "source": [
        "**print( )関数**\n",
        "\n",
        "> **( )**の中に書かれた**\" \"**や**' '**で囲まれた文字列や計算の値，変数(後で説明)\n",
        "  の値などを表示するPython標準の（組み込まれた）関数です．プログラムにおける「関数」とは定まった機能を実現するためのもので，数学の関数と同様に計算等で値を返す場合もありますが，printのように「表示する」機能だけを持ち，値を返さないものもあります．"
      ]
    },
    {
      "cell_type": "markdown",
      "metadata": {
        "id": "c-9LBP6cSAhK"
      },
      "source": [
        "**コメント**\n",
        "> 各行末の**#**で始まる記述はコメント（注釈）で，#の後，行末までの文字はプログラムとしては解釈されません．したがって，この例のようにプログラムの説明等を自由に書くことができます．"
      ]
    },
    {
      "cell_type": "markdown",
      "metadata": {
        "id": "xh_ks_CS5ESI"
      },
      "source": [
        "演習）上の例のプログラムで「こんにちは」と「おやすみ」の間に「こんばんは」と表示されるようにしましょう。"
      ]
    },
    {
      "cell_type": "code",
      "metadata": {
        "id": "xj69NsED5V0t",
        "colab": {
          "base_uri": "https://localhost:8080/"
        },
        "outputId": "30b21415-3c3e-476a-94c7-5690e04fd82b"
      },
      "source": [
        "print(\"おはよう\")\n",
        "print(\"こんにちは\")\n",
        "print(\"こんばんは\")\n",
        "print(\"おやすみ\")"
      ],
      "execution_count": null,
      "outputs": [
        {
          "output_type": "stream",
          "name": "stdout",
          "text": [
            "おはよう\n",
            "こんにちは\n",
            "こんばんは\n",
            "おやすみ\n"
          ]
        }
      ]
    },
    {
      "cell_type": "markdown",
      "metadata": {
        "id": "5WAwhIsZAdcF"
      },
      "source": [
        "演習）朝起きてから出かけるまでのできごとを順に表示するプログラムを作成しましょう。"
      ]
    },
    {
      "cell_type": "code",
      "metadata": {
        "id": "yih-0LOnArQk",
        "colab": {
          "base_uri": "https://localhost:8080/"
        },
        "outputId": "1c669b1d-dd0a-4ac1-8b57-69561300e084"
      },
      "source": [
        "print(\"起床\")\n",
        "print(\"歯磨き\")\n",
        "print(\"着替え\")"
      ],
      "execution_count": null,
      "outputs": [
        {
          "output_type": "stream",
          "name": "stdout",
          "text": [
            "起床\n",
            "歯磨き\n",
            "着替え\n"
          ]
        }
      ]
    },
    {
      "cell_type": "markdown",
      "metadata": {
        "id": "vhpERo-YMoXy"
      },
      "source": [
        "# 変数と計算"
      ]
    },
    {
      "cell_type": "markdown",
      "metadata": {
        "id": "MUrDTXjOYMvr"
      },
      "source": [
        "変数はプログラムの中で使用するデータをコンピュータ内のメモリに記憶しておくためのものです．変数には名前を付け，それに値を入れ（これを代入といいます），プログラムの中で計算などに利用することができます．"
      ]
    },
    {
      "cell_type": "markdown",
      "metadata": {
        "id": "LetvnYuFMqj-"
      },
      "source": [
        "例）変数に値を入れ，計算するプログラム"
      ]
    },
    {
      "cell_type": "code",
      "metadata": {
        "id": "zLU-FUxXMzL5",
        "colab": {
          "base_uri": "https://localhost:8080/"
        },
        "outputId": "7d65cb6a-0f67-4156-b0c1-76af3815aa8f"
      },
      "source": [
        "a = 10\n",
        "b = 5\n",
        "print(a+b)"
      ],
      "execution_count": null,
      "outputs": [
        {
          "output_type": "stream",
          "name": "stdout",
          "text": [
            "15\n"
          ]
        }
      ]
    },
    {
      "cell_type": "markdown",
      "metadata": {
        "id": "k9CAwxVXaeu1"
      },
      "source": [
        "このプログラムでは，変数aに10を代入し，変数bに5を代入し，print()関数を使ってa+bの計算結果を表示しています．aの値は10，bの値は5ですから，a+bは15になり，実行すると確かにその結果が表示されていることが確認できます．"
      ]
    },
    {
      "cell_type": "markdown",
      "metadata": {
        "id": "fUOxtL1OM-Aw"
      },
      "source": [
        "例）いろいろな計算をするプログラム"
      ]
    },
    {
      "cell_type": "code",
      "metadata": {
        "id": "d09bdWJeNCep",
        "colab": {
          "base_uri": "https://localhost:8080/"
        },
        "outputId": "e9db1033-6ce3-4093-910e-6c4b610f743c"
      },
      "source": [
        "print(10 + 3)     # 足し算\n",
        "print(10 - 3)     # 引き算\n",
        "print(10 * 3)     # かけ算\n",
        "print(10 ** 3)    # べき乗\n",
        "print(10 / 3)     # 割り算\n",
        "print(10 // 3)    # 割り算（小数以下切り捨て：商）\n",
        "print(10 % 3)     # 余剰（割り算の余り）\n",
        "print(10*3 + 6/2) # いろいろな演算子を使った計算（演算子の優先順位）"
      ],
      "execution_count": null,
      "outputs": [
        {
          "output_type": "stream",
          "name": "stdout",
          "text": [
            "13\n",
            "7\n",
            "30\n",
            "1000\n",
            "3.3333333333333335\n",
            "3\n",
            "1\n",
            "33.0\n"
          ]
        }
      ]
    },
    {
      "cell_type": "markdown",
      "metadata": {
        "id": "rJH_CXLybFEM"
      },
      "source": [
        "このプログラムはコメントに書かれたいろいろな計算を行うプログラムです．かけ算が\\*，割り算には/を使います．また，\\*\\*を使うと$10^3$のようなべき乗の計算ができます．また，割り算を小数ではなく，商と余りで求めたければ，//で商，%で余りを計算することができます．また，算数・数学では足し算や引き算より先にかけ算や割り算を行うということを学んだと思いますが，これを演算子の優先順位と言います．優先順位はプログラムの中の式でも適用され，\\*や/は+や-よりも先に計算されます．したがって，最後の計算は10\\*3と6/2が先に計算されるため，30+3が計算され，33.0が答えとして表示されます．"
      ]
    },
    {
      "cell_type": "markdown",
      "metadata": {
        "id": "z6PfC7JHh6NG"
      },
      "source": [
        "演習）半径をrに代入して，円の面積を計算するプログラムを作成しましょう。"
      ]
    },
    {
      "cell_type": "code",
      "metadata": {
        "id": "TNAg6ApIiJxj",
        "colab": {
          "base_uri": "https://localhost:8080/"
        },
        "outputId": "0bbf5978-ffb0-4767-c9be-bf2449c556be"
      },
      "source": [
        "r = 5\n",
        "s = 3.14 * r**2\n",
        "print(s)"
      ],
      "execution_count": null,
      "outputs": [
        {
          "output_type": "stream",
          "name": "stdout",
          "text": [
            "78.5\n"
          ]
        }
      ]
    },
    {
      "cell_type": "markdown",
      "metadata": {
        "id": "lPjI4cUkDpWR"
      },
      "source": [
        "# データ型"
      ]
    },
    {
      "cell_type": "markdown",
      "metadata": {
        "id": "LZnq50Upd8u8"
      },
      "source": [
        "変数に記憶するデータが整数なのか，実数なのか，文字列なのかなどによって，コンピュータのメモリの中での記憶方法や必要なメモリのサイズが異なります．このようなデータの値の種類のことを**データ型**と呼びます．多くのプログラミング言語では，データ型を指定して変数を使うことを**宣言**する必要がありますが，Pythonはその必要はありません．しかし，Pythonが扱うデータにももちろん型があります．Pythonでは最初の変数への代入時に型が決定します．"
      ]
    },
    {
      "cell_type": "markdown",
      "metadata": {
        "id": "CyEhx5eHfnfk"
      },
      "source": [
        "例）いろいろなデータ型（エラー）"
      ]
    },
    {
      "cell_type": "code",
      "metadata": {
        "id": "NVSB_0rffsTw",
        "colab": {
          "base_uri": "https://localhost:8080/",
          "height": 273
        },
        "outputId": "ef0daf8d-9300-447b-a12b-817c6d18c4df"
      },
      "source": [
        "a = 10            # 整数\n",
        "b = 5 \n",
        "c = 12.3          # 実数（浮動小数点数）\n",
        "d = 9.87\n",
        "e = \"abc\"         # 文字列\n",
        "f = 'xyz'\n",
        "print(a+b)        # 整数同士の計算結果は整数\n",
        "print(c+d)        # 実数同士の計算結果は実数\n",
        "print(a+d)        # 整数と実数の計算結果は実数\n",
        "print(e+f)        # 文字列の演算で + は連結を示す\n",
        "print(a+f)        # 整数と文字列が足し算？連結？"
      ],
      "execution_count": null,
      "outputs": [
        {
          "output_type": "stream",
          "name": "stdout",
          "text": [
            "15\n",
            "22.17\n",
            "19.869999999999997\n",
            "abcxyz\n"
          ]
        },
        {
          "output_type": "error",
          "ename": "TypeError",
          "evalue": "ignored",
          "traceback": [
            "\u001b[0;31m---------------------------------------------------------------------------\u001b[0m",
            "\u001b[0;31mTypeError\u001b[0m                                 Traceback (most recent call last)",
            "\u001b[0;32m<ipython-input-7-3fee77b45301>\u001b[0m in \u001b[0;36m<module>\u001b[0;34m()\u001b[0m\n\u001b[1;32m      9\u001b[0m \u001b[0mprint\u001b[0m\u001b[0;34m(\u001b[0m\u001b[0ma\u001b[0m\u001b[0;34m+\u001b[0m\u001b[0md\u001b[0m\u001b[0;34m)\u001b[0m        \u001b[0;31m# 整数と実数の計算結果は実数\u001b[0m\u001b[0;34m\u001b[0m\u001b[0;34m\u001b[0m\u001b[0m\n\u001b[1;32m     10\u001b[0m \u001b[0mprint\u001b[0m\u001b[0;34m(\u001b[0m\u001b[0me\u001b[0m\u001b[0;34m+\u001b[0m\u001b[0mf\u001b[0m\u001b[0;34m)\u001b[0m        \u001b[0;31m# 文字列の演算で + は連結を示す\u001b[0m\u001b[0;34m\u001b[0m\u001b[0;34m\u001b[0m\u001b[0m\n\u001b[0;32m---> 11\u001b[0;31m \u001b[0mprint\u001b[0m\u001b[0;34m(\u001b[0m\u001b[0ma\u001b[0m\u001b[0;34m+\u001b[0m\u001b[0mf\u001b[0m\u001b[0;34m)\u001b[0m        \u001b[0;31m# 整数と文字列が足し算？連結？\u001b[0m\u001b[0;34m\u001b[0m\u001b[0;34m\u001b[0m\u001b[0m\n\u001b[0m",
            "\u001b[0;31mTypeError\u001b[0m: unsupported operand type(s) for +: 'int' and 'str'"
          ]
        }
      ]
    },
    {
      "cell_type": "markdown",
      "metadata": {
        "id": "POjbyaAJfxQ8"
      },
      "source": [
        "このプログラムでは，変数a〜fにいろいろな値を代入しています．a,bは整数を代入しているので，整数の変数になります．c,dは小数点の付いた数を代入しているので実数の変数になります．e,fは\" \"や' 'で囲まれた文字列が代入されているので文字列の変数になります．\n",
        "続いて，演算子**+**を使って各変数を演算して，print()で出力しています．（a+dの計算結果がおかしいように見えますが，これについては後で説明します．）\n",
        "整数同士の演算は整数，実数同士の計算は実数，整数と実数の計算は実数として出力されます．文字列同士の演算**+**は足し算ではなく，文字列同士をくっつける演算となりこれを**連結**と呼びます．\n",
        "しかし，このプログラムは最後の行でエラーが出ます．なぜならば，整数や実数と文字列は**+**では演算できないからです．"
      ]
    },
    {
      "cell_type": "markdown",
      "metadata": {
        "id": "f9CknlpBg0yO"
      },
      "source": [
        "例）いろいろなデータ型（エラーがでないよう修正）"
      ]
    },
    {
      "cell_type": "code",
      "metadata": {
        "id": "9Qq5O-N6g-sj",
        "colab": {
          "base_uri": "https://localhost:8080/"
        },
        "outputId": "5e757113-6d08-4e26-c060-0103ebf7f130"
      },
      "source": [
        "a = 10            # 整数\n",
        "b = 5 \n",
        "c = 12.3          # 実数(浮動小数点数)\n",
        "d = 9.87\n",
        "e = \"abc\"         # 文字列\n",
        "f = 'xyz'\n",
        "print(a+b)\n",
        "print(c+d)\n",
        "print(a+d)\n",
        "print(e+f)\n",
        "print(str(a)+f)   # 整数を文字列に変換すれば連結できる"
      ],
      "execution_count": null,
      "outputs": [
        {
          "output_type": "stream",
          "name": "stdout",
          "text": [
            "15\n",
            "22.17\n",
            "19.869999999999997\n",
            "abcxyz\n",
            "10xyz\n"
          ]
        }
      ]
    },
    {
      "cell_type": "markdown",
      "metadata": {
        "id": "eVM9u5HlfZhl"
      },
      "source": [
        "そこで，エラーが出た最後の行で整数のaを**str()**関数を使って文字列に変換しました．これにより**+**が文字列の連結となって，エラーは発生せず「10xyz」という表示を行うことができました．"
      ]
    },
    {
      "cell_type": "markdown",
      "metadata": {
        "id": "5sVErBikh58o"
      },
      "source": [
        "次に，キーボードから入力を受け付ける処理を見ていきましょう．"
      ]
    },
    {
      "cell_type": "markdown",
      "metadata": {
        "id": "1c9WulZOjvLp"
      },
      "source": [
        "例）キーボードからの入力"
      ]
    },
    {
      "cell_type": "code",
      "metadata": {
        "id": "yvU4Y-FKjwC2",
        "colab": {
          "base_uri": "https://localhost:8080/"
        },
        "outputId": "19f459a7-f64d-4b29-a001-5637261c525c"
      },
      "source": [
        "a = input(\"入力してください: \")\n",
        "print(\"あなたが入力したのは\" + a + \"です\")"
      ],
      "execution_count": null,
      "outputs": [
        {
          "output_type": "stream",
          "name": "stdout",
          "text": [
            "入力してください: U\n",
            "あなたが入力したのはUです\n"
          ]
        }
      ]
    },
    {
      "cell_type": "markdown",
      "metadata": {
        "id": "okEzdzDGiOtc"
      },
      "source": [
        "**input()**はキーボードから入力を受け付ける関数です．( )の中に文字列を書くと，入力時に表示するメッセージを指定することができます．何を入力していいのかを促すメッセージになるので，これは**プロンプト**と呼ばれます．キーボードから入力された値は文字列として扱われます．ですから，print()の中で，文字列と+で連結して表示することができます．"
      ]
    },
    {
      "cell_type": "markdown",
      "metadata": {
        "id": "SrRs1u0QkQEE"
      },
      "source": [
        "例）キーボードからの入力（整数）"
      ]
    },
    {
      "cell_type": "code",
      "metadata": {
        "id": "b8qkfDPCkUL5",
        "colab": {
          "base_uri": "https://localhost:8080/"
        },
        "outputId": "ed513a19-3dab-44b3-c955-f7c756937728"
      },
      "source": [
        "a = int(input(\"整数を入力してください: \"))\n",
        "b = a * 10\n",
        "print(b)"
      ],
      "execution_count": null,
      "outputs": [
        {
          "output_type": "stream",
          "name": "stdout",
          "text": [
            "整数を入力してください: 2\n",
            "20\n"
          ]
        }
      ]
    },
    {
      "cell_type": "markdown",
      "metadata": {
        "id": "tArEtABcjH_m"
      },
      "source": [
        "入力された値を整数として扱うためには文字列を整数に変換する必要があります．そのためには，この例のように，input()を**int()**関数で囲むことにより，入力された文字列を整数に変換して変数に代入することができます．"
      ]
    },
    {
      "cell_type": "markdown",
      "metadata": {
        "id": "VZLQbltnkUz9"
      },
      "source": [
        "例）キーボードからの入力（実数）"
      ]
    },
    {
      "cell_type": "code",
      "metadata": {
        "id": "rEtqjJfakjbI",
        "colab": {
          "base_uri": "https://localhost:8080/"
        },
        "outputId": "27914cb0-d8d7-46f0-a51e-a7a0796b395d"
      },
      "source": [
        "a = float(input(\"実数を入力してください: \"))\n",
        "b = a * 10\n",
        "print(b)"
      ],
      "execution_count": null,
      "outputs": [
        {
          "output_type": "stream",
          "name": "stdout",
          "text": [
            "実数を入力してください: 2\n",
            "20.0\n"
          ]
        }
      ]
    },
    {
      "cell_type": "markdown",
      "metadata": {
        "id": "sy3eFnvBjDkB"
      },
      "source": [
        "また，**float()**関数を使うと実数に変換することができます．"
      ]
    },
    {
      "cell_type": "markdown",
      "metadata": {
        "id": "g0asIUZRCs-6"
      },
      "source": [
        "演習）底面の半径と高さを入力し，円すいの体積を計算するプログラムを作成しましょう。入力は実数を受け付けることができるようにしてください。"
      ]
    },
    {
      "cell_type": "code",
      "metadata": {
        "id": "ybmZGwJRC-E-",
        "colab": {
          "base_uri": "https://localhost:8080/"
        },
        "outputId": "259b3488-b13d-4aa9-c0bf-1f6511fb683e"
      },
      "source": [
        "import math\n",
        "r = float(input(\"底面の半径を入力してください: \"))\n",
        "h = float(input(\"高さを入力してください: \"))\n",
        "print(r*r*math.pi*h/3)"
      ],
      "execution_count": null,
      "outputs": [
        {
          "output_type": "stream",
          "name": "stdout",
          "text": [
            "底面の半径を入力してください: 5\n",
            "高さを入力してください: 2\n",
            "52.35987755982989\n"
          ]
        }
      ]
    },
    {
      "cell_type": "markdown",
      "metadata": {
        "id": "CpmGpn_s8SgQ"
      },
      "source": [
        "# オーバーフローと誤差"
      ]
    },
    {
      "cell_type": "markdown",
      "metadata": {
        "id": "GawWo_rXjtMD"
      },
      "source": [
        "コンピュータで扱うデータにはその型によってメモリ内でのサイズが決まっています．したがって，扱える値の範囲にも限界があります．**オーバーフロー**とは，扱えるデータの最大値を超えてしまったために起こる現象です．"
      ]
    },
    {
      "cell_type": "markdown",
      "metadata": {
        "id": "w48Opa00OCJA"
      },
      "source": [
        "例）オーバーフローが発生するプログラム"
      ]
    },
    {
      "cell_type": "code",
      "metadata": {
        "id": "ALjsNntFOZnj",
        "colab": {
          "base_uri": "https://localhost:8080/"
        },
        "outputId": "780b9e85-dd72-4b2c-d95e-ff0ed7675b50"
      },
      "source": [
        "import sys                        # 実行環境に関する情報を調べるためのモジュールを呼び出し\n",
        "x=sys.float_info.max              # モジュールsysを使い，float 型で表せる最大値をx に代入\n",
        "print(x)                          # 画面にx の値を表示\n",
        "x=1.797693134862315799999e+308    # float 型の最大数最下桁以下に5 桁「9」を追加した値を代入\n",
        "print(x)                          # 画面にx の値を表示\n",
        "x=1.8e+308                        # float 型の最大値より大きな値を代入\n",
        "print(x)                          # 画面にx の値を表示"
      ],
      "execution_count": null,
      "outputs": [
        {
          "output_type": "stream",
          "name": "stdout",
          "text": [
            "1.7976931348623157e+308\n",
            "1.7976931348623157e+308\n",
            "inf\n"
          ]
        }
      ]
    },
    {
      "cell_type": "markdown",
      "metadata": {
        "id": "xZ2EbhkbkaRm"
      },
      "source": [
        "この例はオーバーフローを起こすプログラムです．まず最初にxに実数(float)型で扱える最大値を代入して表示しています．\n",
        "float型の最大値が1.7976931348623157e+308であることがわかります．そこで，その数の再下桁以下に5桁「9」を追加しますが，扱えることのできる桁数を超えているので，切り捨てられてしまいます．次に，最大値より大きい1.8e+308を代入すると，1.8e+308はfloat型の最大値を超えているので，オーバーフローを起こし，表示は無限大を表す**inf**となります．"
      ]
    },
    {
      "cell_type": "markdown",
      "metadata": {
        "id": "_XZLgRMZmE-R"
      },
      "source": [
        "**import**\n",
        "> import とはモジュールと呼ばれるあらかじめ用意された機能を取り込むためのもので，ここでは実行環境に関する情報を得るための**sys**というモジュールを呼び出しています．これにより，**sys.float_info.max**によりfloat型で扱える最大値を得ることができます．"
      ]
    },
    {
      "cell_type": "markdown",
      "metadata": {
        "id": "OC_Tdb_2mUyM"
      },
      "source": [
        "**指数表現**\n",
        "> 実数の*e*を使った表記は指数表記と呼ばれます．eの後が10のべき乗を表しています．ですので，1.8e+308は$1.8×10^{308}$を表すことになります．"
      ]
    },
    {
      "cell_type": "markdown",
      "metadata": {
        "id": "O4e0l8oXn4Az"
      },
      "source": [
        "**オーバーフロー時の値**\n",
        "> Pythonではオーバーフローを起こす値を代入した場合は無限大を表すinfという値になりますが，多くのプログラミング言語の場合，負の値になるなど，意図しないおかしな値になります．"
      ]
    },
    {
      "cell_type": "markdown",
      "metadata": {
        "id": "xI2O4GfmooHT"
      },
      "source": [
        "上の例でもありましたが，実数の計算では誤差がでることがあります．これは，小数（実数）を2進法で表現したときに誤差が生じるからです．"
      ]
    },
    {
      "cell_type": "markdown",
      "metadata": {
        "id": "zDJ9oHO7f6td"
      },
      "source": [
        "例）小数同士の減算で誤差が発生するプログラム"
      ]
    },
    {
      "cell_type": "code",
      "metadata": {
        "id": "kOsbz9i_ghqV"
      },
      "source": [
        "x = 28-27          # x に28-27 の計算結果を入れる\n",
        "print(x)           # 画面にx の値を表示\n",
        "y = 0.28-0.27      # y に0.28-0.27 の計算結果を入れる\n",
        "print(y)           # 画面y の値を表示"
      ],
      "execution_count": null,
      "outputs": []
    },
    {
      "cell_type": "markdown",
      "metadata": {
        "id": "xFa6crwFo-GV"
      },
      "source": [
        "この例では28-27という整数の計算では誤差は出ませんが，0.28-0.27は0.01ではなく，誤差が生じ，0.010000000000000009 となってしまっています．"
      ]
    },
    {
      "cell_type": "markdown",
      "metadata": {
        "id": "oefJEgYbpYaT"
      },
      "source": [
        "**小数の2進表現**\n",
        "> 2進の小数は整数部と同様，2のべき乗で表されます．したがって，2進の小数は$2^{-1}=0.5$，$2^{-2}=0.25$，…という小数の組み合わせで表現されます．このため，0.28や0.27は2進の小数としたときに誤差が生じ，計算結果も誤差が生じるという結果になってしまいます．"
      ]
    },
    {
      "cell_type": "markdown",
      "metadata": {
        "id": "pBVaT9ZDjhfq"
      },
      "source": [
        "演習）誤差を出さないよう「0.28-0.27」を計算するプログラムを作成しましょう。"
      ]
    },
    {
      "cell_type": "code",
      "metadata": {
        "id": "4XXHzUTsjw75",
        "colab": {
          "base_uri": "https://localhost:8080/"
        },
        "outputId": "dc0436fd-a934-4cf4-8402-48c55e5ed959"
      },
      "source": [
        "x = 28-27\n",
        "x = x / 100\n",
        "print(x)"
      ],
      "execution_count": null,
      "outputs": [
        {
          "output_type": "stream",
          "name": "stdout",
          "text": [
            "0.01\n"
          ]
        }
      ]
    },
    {
      "cell_type": "markdown",
      "metadata": {
        "id": "sHP6Iuq1kRfE"
      },
      "source": [
        "応用演習）誤差がでない小数の計算を見つけてみましょう。"
      ]
    },
    {
      "cell_type": "code",
      "metadata": {
        "id": "UflfG0hikhov",
        "colab": {
          "base_uri": "https://localhost:8080/"
        },
        "outputId": "6544cbaf-b377-48fe-99b4-000f327f3188"
      },
      "source": [
        "x = 0.2-0.1\n",
        "print(x)"
      ],
      "execution_count": null,
      "outputs": [
        {
          "output_type": "stream",
          "name": "stdout",
          "text": [
            "0.1\n"
          ]
        }
      ]
    },
    {
      "cell_type": "markdown",
      "metadata": {
        "id": "r3y6OrfRIH9x"
      },
      "source": [
        "[次のコンテンツ](https://colab.research.google.com/drive/19ieYeHeSSmodPkkO2dcWz06_KQxaerCq?usp=sharing)"
      ]
    }
  ]
}