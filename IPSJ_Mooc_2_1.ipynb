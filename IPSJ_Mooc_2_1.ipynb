{
  "nbformat": 4,
  "nbformat_minor": 0,
  "metadata": {
    "colab": {
      "name": "IPSJ-Mooc-2-1.ipynb",
      "provenance": [],
      "collapsed_sections": [],
      "include_colab_link": true
    },
    "kernelspec": {
      "name": "python3",
      "display_name": "Python 3"
    }
  },
  "cells": [
    {
      "cell_type": "markdown",
      "metadata": {
        "id": "view-in-github",
        "colab_type": "text"
      },
      "source": [
        "<a href=\"https://colab.research.google.com/github/ika-si/IPSJ-Mooc/blob/main/IPSJ_Mooc_2_1.ipynb\" target=\"_parent\"><img src=\"https://colab.research.google.com/assets/colab-badge.svg\" alt=\"Open In Colab\"/></a>"
      ]
    },
    {
      "cell_type": "markdown",
      "metadata": {
        "id": "FOINDyPfakDQ"
      },
      "source": [
        "# 実習の説明\n",
        "* これは、Google Colaboratory のプログラム実行環境です。\n",
        "* 実行する場合は、プログラムの左端の [　] の部分にマウスカーソルを近づけてみてください。再生ボタンが表示されるので、それを押してください。\n",
        "* 「警告: このノートブックは Google が作成したものではありません。」（以下略） と表示されます。このプログラムは教材用として情報処理学会で作成したものです。そのまま実行をしてください。\n",
        "* アニメーションが止まったら、その部分の実行は終わりです。次（下）に進んでください。"
      ]
    },
    {
      "cell_type": "markdown",
      "metadata": {
        "id": "W10hwCpJicjj"
      },
      "source": [
        "# 1. リストと組み込みの関数"
      ]
    },
    {
      "cell_type": "markdown",
      "metadata": {
        "id": "pdV6yqOz7eor"
      },
      "source": [
        "この Story2 では，「アルゴリズム」の基本について学びます。  \n",
        "文部科学省の『[高等学校情報科「情報Ⅰ」教員研修用教材](https://www.mext.go.jp/a_menu/shotou/zyouhou/detail/1416756.htm)』第3章「コンピュータとプログラミング」の学習15「アルゴリズムの比較」に準拠しています。\n",
        "基本的な処理である探索やソートを題材に，素朴なアルゴリズムを設計したり，アルゴリズムの効率を検討したりします。  \n",
        "ここでは，まず，リストの使い方を補足します。"
      ]
    },
    {
      "cell_type": "markdown",
      "metadata": {
        "id": "RvXmM2_zqVQF"
      },
      "source": [
        "次のコードでは，平成18年に生まれた子どもにつけられた名前ランキングで上位に入った名前をリストにして変数 names に代入しています。"
      ]
    },
    {
      "cell_type": "code",
      "metadata": {
        "id": "DlOZ3u3v5UzD"
      },
      "source": [
        "names = ['ゆうと', 'ひな', 'さくら', 'ゆい', 'あん', 'りく', 'あい', 'れん', 'ひろと', 'あおい', 'つばさ', 'だいき', 'ななみ', 'まお', 'かいと', 'みう', 'そら', 'みさき', 'しょうた', 'ゆう']\n",
        "print(names)"
      ],
      "execution_count": null,
      "outputs": []
    },
    {
      "cell_type": "markdown",
      "metadata": {
        "id": "kBrI_uNRxABQ"
      },
      "source": [
        "「[基本的なプログラミング（Python入門）](https://sites.google.com/view/ipsjmooc/list/C3-1?authuser=0)」の「[4. 応用的プログラミング1](https://colab.research.google.com/drive/1ONXeLMq3lpmHJN55UGctxq_rAc-zLXWC?usp=sharing)」で学んだリストの基本的を，names を使って復習しましょう。\n"
      ]
    },
    {
      "cell_type": "code",
      "metadata": {
        "id": "pfogYzZR1M_q"
      },
      "source": [
        "# 色々とためしてみましょう"
      ],
      "execution_count": null,
      "outputs": []
    },
    {
      "cell_type": "markdown",
      "metadata": {
        "id": "1vjmnlnnrXJZ"
      },
      "source": [
        "## sorted  \n",
        "\n",
        "組み込み関数 sorted は，引数として受け取ったリストをソート（整列）したリストを返します。  \n",
        "次のコードでは，組み込み関数の sorted でリスト names を50音順に並べ替えたリストを sorted_names に代入しています。"
      ]
    },
    {
      "cell_type": "code",
      "metadata": {
        "id": "8QZkIgfZ5Zsi"
      },
      "source": [
        "sorted_names = sorted(names)"
      ],
      "execution_count": null,
      "outputs": []
    },
    {
      "cell_type": "code",
      "metadata": {
        "id": "me7m35NOIl36"
      },
      "source": [
        "print(names)\n",
        "print(sorted_names)"
      ],
      "execution_count": null,
      "outputs": []
    },
    {
      "cell_type": "markdown",
      "metadata": {
        "id": "rekMCXdFuMzt"
      },
      "source": [
        "sorted は，数値のリストの場合は昇順に（数値の小さい順に）ソートし，文字列の場合は辞書式順序に従いソートします。  \n",
        "逆順にソートしたい場合は，次のように reverse パラメータで True を指定します。"
      ]
    },
    {
      "cell_type": "code",
      "metadata": {
        "id": "BUkokyVtwI0L"
      },
      "source": [
        "sorted_names_r = sorted(names,reverse=True)\n",
        "print(names)\n",
        "print(sorted_names)\n",
        "print(sorted_names_r)"
      ],
      "execution_count": null,
      "outputs": []
    },
    {
      "cell_type": "markdown",
      "metadata": {
        "id": "vV5dldkXwIOU"
      },
      "source": [
        "## in 演算子\n",
        "\n",
        "指定の値の要素がリストに含まれるかを調べられます。\n"
      ]
    },
    {
      "cell_type": "code",
      "metadata": {
        "id": "fRAhSbgQfcy0"
      },
      "source": [
        "print('たろう' in names)\n",
        "print('ひな' in names)"
      ],
      "execution_count": null,
      "outputs": []
    },
    {
      "cell_type": "markdown",
      "metadata": {
        "id": "xDEor2Kj7NNK"
      },
      "source": [
        "## index メソッド\n",
        "\n",
        "リスト中に指定の値の要素があればその値を持つ最初の要素の添字を取得できます。"
      ]
    },
    {
      "cell_type": "code",
      "metadata": {
        "id": "FGqfILA15SCf"
      },
      "source": [
        "print(names.index('ひな'))\n",
        "print(sorted_names.index('ひな'))"
      ],
      "execution_count": null,
      "outputs": []
    },
    {
      "cell_type": "markdown",
      "metadata": {
        "id": "0nqqKfdD9GhH"
      },
      "source": [
        "## append メソッド\n",
        "\n",
        "リストの末尾に要素を追加します。"
      ]
    },
    {
      "cell_type": "code",
      "metadata": {
        "id": "LzuDA9KGggI6"
      },
      "source": [
        "print(names)\n",
        "names.append('たろう')\n",
        "print(names)"
      ],
      "execution_count": null,
      "outputs": []
    },
    {
      "cell_type": "markdown",
      "metadata": {
        "id": "wAelK_3a-jq1"
      },
      "source": [
        "## insert メソッド\n",
        "\n",
        "リストの指定した位置に要素を追加します。"
      ]
    },
    {
      "cell_type": "code",
      "metadata": {
        "id": "GMgxf8Dm8pHa"
      },
      "source": [
        "print(sorted_names)\n",
        "sorted_names.insert(8,'たろう')\n",
        "print(sorted_names)"
      ],
      "execution_count": null,
      "outputs": []
    }
  ]
}