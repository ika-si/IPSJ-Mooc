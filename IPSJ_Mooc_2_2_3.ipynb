{
  "nbformat": 4,
  "nbformat_minor": 0,
  "metadata": {
    "colab": {
      "name": "IPSJ-Mooc-2-2-3.ipynb",
      "provenance": [],
      "collapsed_sections": [],
      "include_colab_link": true
    },
    "kernelspec": {
      "name": "python3",
      "display_name": "Python 3"
    }
  },
  "cells": [
    {
      "cell_type": "markdown",
      "metadata": {
        "id": "view-in-github",
        "colab_type": "text"
      },
      "source": [
        "<a href=\"https://colab.research.google.com/github/ika-si/IPSJ-Mooc/blob/main/IPSJ_Mooc_2_2_3.ipynb\" target=\"_parent\"><img src=\"https://colab.research.google.com/assets/colab-badge.svg\" alt=\"Open In Colab\"/></a>"
      ]
    },
    {
      "cell_type": "markdown",
      "metadata": {
        "id": "FOINDyPfakDQ"
      },
      "source": [
        "# 実習の説明\n",
        "* これは、Google Colaboratory のプログラム実行環境です。\n",
        "* 実行する場合は、プログラムの左端の [　] の部分にマウスカーソルを近づけてみてください。再生ボタンが表示されるので、それを押してください。\n",
        "* 「警告: このノートブックは Google が作成したものではありません。」（以下略） と表示されます。このプログラムは教材用として情報処理学会で作成したものです。そのまま実行をしてください。\n",
        "* アニメーションが止まったら、その部分の実行は終わりです。次（下）に進んでください。"
      ]
    },
    {
      "cell_type": "markdown",
      "metadata": {
        "id": "7IL1ypCixljI"
      },
      "source": [
        "# 2-3. 基本的な探索  - 線形探索と二分探索の比較"
      ]
    },
    {
      "cell_type": "markdown",
      "metadata": {
        "id": "GXafEr7DP3fo"
      },
      "source": [
        "## 二分探索の実装例\n",
        "\n",
        "二分探索は，データがある順番で並び替えらている場合にその性質を活かして探索のたびに探索範囲を半分以下に絞り込む方法でした。 \n",
        "\n",
        "---\n",
        "【二分探索の方針】  \n",
        "探索範囲が空でない間，次を繰り返す：  \n",
        "　探索範囲中央 `a[m]` を探索対象 `p`と比較\n",
        "\n",
        "- `a[m] == 0` なら: 対象を発見\n",
        "- `a[m] > p` なら: 探索範囲を `l` 〜 `m-1` に更新\n",
        "- `a[m] < p` なら: 探索範囲を `m+1` 〜 `l` に更新\n",
        "---\n",
        "\n",
        "次は，二分探索でリスト中の値を探す関数 b_search(a, p) の実装例です。"
      ]
    },
    {
      "cell_type": "code",
      "metadata": {
        "id": "abyJBafORGUk"
      },
      "source": [
        "def b_search(a,p):\n",
        "  l = 0           # 探索範囲の左端 (0 で初期化)\n",
        "  r = len(a)-1    # 探索範囲の右端 (len(a)-1 で初期化)\n",
        "  while l <= r:   # 探索範囲が空でない間繰り返す\n",
        "    m = (l+r)//2    # 探索範囲のほぼ中央の位置\n",
        "    if a[m] == p:   # 探索成功\n",
        "      return(m)\n",
        "    elif a[m] > p:  # p があるとすると m より左\n",
        "      r = m-1\n",
        "    else:           # p があるとすると m より右\n",
        "      l = m+1\n",
        "  return(-1)      # 探索失敗"
      ],
      "execution_count": null,
      "outputs": []
    },
    {
      "cell_type": "markdown",
      "metadata": {
        "id": "aTg2nYUHQvwt"
      },
      "source": [
        "上のセルの関数 b_search(a, p) が完成したら，上のセルを実行してから，下の３つのセルを順に実行しましょう。"
      ]
    },
    {
      "cell_type": "code",
      "metadata": {
        "id": "Cvi29lEySe3S"
      },
      "source": [
        "names = ['ゆうと', 'ひな', 'さくら', 'ゆい', 'あん', 'りく', 'あい', 'れん', 'ひろと', 'あおい', 'つばさ', 'だいき', 'ななみ', 'まお', 'かいと', 'みう', 'そら', 'みさき', 'しょうた', 'ゆう']\n",
        "sorted_names = sorted(names)\n",
        "print(names)\n",
        "print(sorted_names)"
      ],
      "execution_count": null,
      "outputs": []
    },
    {
      "cell_type": "code",
      "metadata": {
        "id": "SIG-GRzonH3W"
      },
      "source": [
        "p = 'つばさ'\n",
        "print('ソート済',p,b_search(sorted_names,p))\n",
        "p = 'たろう'\n",
        "print('ソート済',p,b_search(sorted_names,p))\n",
        "p = 'ゆうと'\n",
        "print('ソート済',p,b_search(sorted_names,p))\n",
        "p = 'あい'\n",
        "print('ソート済',p,b_search(sorted_names,p))\n",
        "p = 'ゆう'\n",
        "print('ソート済',p,b_search(sorted_names,p))\n",
        "p = 'れん'\n",
        "print('ソート済',p,b_search(sorted_names,p))"
      ],
      "execution_count": null,
      "outputs": []
    },
    {
      "cell_type": "code",
      "metadata": {
        "id": "Y6angaNMnSNL"
      },
      "source": [
        "sorted_nums = [6, 8, 18, 26, 39, 44, 63, 66, 68, 76, 78, 79, 80, 85, 87]\n",
        "p = 26\n",
        "print('ソート済',p,b_search(sorted_nums,p))\n",
        "p = 66\n",
        "print('ソート済',p,b_search(sorted_nums,p))\n",
        "p = 79\n",
        "print('ソート済',p,b_search(sorted_nums,p))\n",
        "p = 77\n",
        "print('ソート済',p,b_search(sorted_nums,p))"
      ],
      "execution_count": null,
      "outputs": []
    },
    {
      "cell_type": "markdown",
      "metadata": {
        "id": "Dh37FwhuRFvQ"
      },
      "source": [
        "## 線形探索と二分探索の比較\n",
        "\n",
        "- 線形探索はリストの先頭要素から順に探している値と同じか調べるアルゴリズム \n",
        "- 二分探索は，データがある順番で並び替えらている場合にその性質を活かして探索のたびに探索範囲を半分以下に絞り込むアルゴリズム\n",
        "\n",
        "線形探索と二分探索の性能を比較するため，線形探索で探索する関数 l_search(a,p) と線形探索で探索する関数 b_search(a,p) を探索回数を数えるように変更しました。  \n",
        "グローバル変数 count に，探索回数を記憶します。"
      ]
    },
    {
      "cell_type": "code",
      "metadata": {
        "id": "qhBpQV7mNlvn"
      },
      "source": [
        "def l_search_count(a,p):\n",
        "  global count    # 探索回数を記録するグローバル変数\n",
        "  for i in range(0,len(a),1):\n",
        "    count += 1     # 探索回数をインクリメント\n",
        "    if a[i]==p:\n",
        "      return(i)    # 探索成功\n",
        "  return(-1)      # 探索失敗\n",
        "\n",
        "def b_search_count(a,p):\n",
        "  global count    # 探索回数を記録するグローバル変数\n",
        "  l = 0           # 探索範囲の左端 (0 で初期化)\n",
        "  r = len(a)-1    # 探索範囲の右端 (len(a)-1 で初期化)\n",
        "  while l <= r:   # 探索範囲が空でない間繰り返す\n",
        "    count += 1      # 探索回数をインクリメント\n",
        "    m = (l+r)//2    # 探索範囲のほぼ中央の位置\n",
        "    if a[m] == p:   # 探索成功\n",
        "      return(m)\n",
        "    elif a[m] > p:  # p があるとすると m より左\n",
        "      r = m-1\n",
        "    else:           # p があるとすると m より右\n",
        "      l = m+1\n",
        "  return(-1)      # 探索失敗"
      ],
      "execution_count": null,
      "outputs": []
    },
    {
      "cell_type": "markdown",
      "metadata": {
        "id": "yhzifPu7R8Vy"
      },
      "source": [
        "次のセルの処理は，リスト `sorted_names` に含まれるすべての要素を，線形探索（非ソートリスト `names`）・線形探索（ソート済リスト `sorted_names`）・二分探索（ソート済リスト `sorted_names`）の3パターンで，探索回数を記録しながら探索します。\n",
        "\n",
        "上のセルを実行して，次のセルを実行してみしょう。"
      ]
    },
    {
      "cell_type": "code",
      "metadata": {
        "id": "qvA3pWTaRy4v"
      },
      "source": [
        "import random\n",
        "sorted_names = ['あい', 'あおい', 'あん', 'かいと', 'さくら', 'しょうた', 'そら', 'だいき', 'つばさ', 'ななみ', 'ひな', 'ひろと', 'まお', 'みう', 'みさき', 'ゆい', 'ゆう', 'ゆうと', 'りく', 'れん']\n",
        "print(sorted_names)\n",
        "names = random.sample(sorted_names,len(sorted_names))\n",
        "print(names)\n",
        "c1 = 0  # 線形探索（非ソート）探索回数の合計を保存\n",
        "c2 = 0  # 線形探索（ソート済）探索回数の合計を保存\n",
        "c3 = 0  # 二分探索 探索回数の合計を保存\n",
        "for name in sorted_names:\n",
        "  print(name)\n",
        "  count = 0\n",
        "  sol = l_search_count(names,name)\n",
        "  c1 += count\n",
        "  print(\" [線形探索（非ソート）] 場所: \", sol, \", 探索回数: \", count)\n",
        "  count = 0\n",
        "  sol = l_search_count(sorted_names,name)\n",
        "  c2 += count  \n",
        "  print(\" [線形探索（ソート済）] 場所: \", sol, \", 探索回数: \", count)\n",
        "  count = 0\n",
        "  sol = b_search_count(sorted_names,name)\n",
        "  c3 += count\n",
        "  print(\" [二分探索] 場所: \", sol, \", 探索回数: \", count)\n",
        "print(\"線形探索（非ソート）探索回数平均:\", c1/len(names))\n",
        "print(\"線形探索（ソート済）探索回数平均:\", c2/len(names))\n",
        "print(\"二分探索 探索回数平均:\", c3/len(names))"
      ],
      "execution_count": null,
      "outputs": []
    },
    {
      "cell_type": "markdown",
      "metadata": {
        "id": "Zi0CApQYLWTt"
      },
      "source": [
        "31個の整数に対しても，実行してみましょう。"
      ]
    },
    {
      "cell_type": "code",
      "metadata": {
        "id": "EYWHwUWSSYje"
      },
      "source": [
        "sorted_nums = [61, 79, 92, 98, 128, 163, 225, 354, 395, 398, 420, 500, 543, 545, 570, 603, 604, 684, 696, 708, 711, 720, 731, 784, 878, 882, 884, 900, 930, 958, 999]\n",
        "c2 = 0\n",
        "c3 = 0\n",
        "for num in sorted_nums:\n",
        "  print(num)\n",
        "  count = 0\n",
        "  sol = l_search_count(sorted_nums,num)\n",
        "  c2 += count  \n",
        "  print(\" [線形探索（ソート済）] 場所: \", sol, \", 探索回数: \", count)\n",
        "  count = 0\n",
        "  sol = b_search_count(sorted_nums,num)\n",
        "  c3 += count\n",
        "  print(\" [二分探索] 場所: \", sol, \", 探索回数: \", count)\n",
        "print(\"線形探索（ソート済）探索回数平均:\", c2/len(sorted_nums))\n",
        "print(\"二分探索 探索回数平均:\", c3/len(sorted_nums))"
      ],
      "execution_count": null,
      "outputs": []
    },
    {
      "cell_type": "markdown",
      "metadata": {
        "id": "IaWlehuRYqSk"
      },
      "source": [
        "データ数を10000にして実行してみましょう。\n",
        "\n",
        "リストの各要素の探索結果の表示処理は，コメントとして実行させないようにしています。"
      ]
    },
    {
      "cell_type": "code",
      "metadata": {
        "id": "VNtjmQgYY6jQ"
      },
      "source": [
        "sorted_nums = list(range(10000))\n",
        "c2 = 0\n",
        "c3 = 0\n",
        "for num in sorted_nums:\n",
        "  # print(num)\n",
        "  count = 0\n",
        "  sol = l_search_count(sorted_nums,num)\n",
        "  c2 += count  \n",
        "  # print(\" [線形探索（ソート済）] 場所: \", sol, \", 探索回数: \", count)\n",
        "  count = 0\n",
        "  sol = b_search_count(sorted_nums,num)\n",
        "  c3 += count\n",
        "  # print(\" [二分探索] 場所: \", sol, \", 探索回数: \", count)\n",
        "print(\"線形探索（ソート済）探索回数平均:\", c2/len(sorted_nums))\n",
        "print(\"二分探索 探索回数平均:\", c3/len(sorted_nums))"
      ],
      "execution_count": null,
      "outputs": []
    },
    {
      "cell_type": "markdown",
      "metadata": {
        "id": "jdKQj2nkljEq"
      },
      "source": [
        "演習）線形探索と二分探索を比較する際，探索回数の合計・平均だけではなく最大値も算出して比較してみましょう。"
      ]
    }
  ]
}